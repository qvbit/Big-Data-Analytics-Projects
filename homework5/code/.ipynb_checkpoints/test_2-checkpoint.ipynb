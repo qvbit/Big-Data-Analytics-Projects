{
 "cells": [
  {
   "cell_type": "code",
   "execution_count": 1,
   "metadata": {
    "scrolled": false
   },
   "outputs": [
    {
     "name": "stdout",
     "output_type": "stream",
     "text": [
      "===> Loading entire datasets\n"
     ]
    },
    {
     "name": "stderr",
     "output_type": "stream",
     "text": [
      "/Users/nabeelnauman/Documents/OMSCS/Big-Data-GaTech-Assignments/homework5/code/mymodels.py:115: UserWarning: nn.init.xavier_uniform is now deprecated in favor of nn.init.xavier_uniform_.\n",
      "  torch.nn.init.xavier_uniform(self.fc1.weight)\n",
      "/Users/nabeelnauman/Documents/OMSCS/Big-Data-GaTech-Assignments/homework5/code/mymodels.py:126: UserWarning: nn.init.xavier_uniform is now deprecated in favor of nn.init.xavier_uniform_.\n",
      "  torch.nn.init.xavier_uniform(self.fc2.weight)\n"
     ]
    },
    {
     "name": "stdout",
     "output_type": "stream",
     "text": [
      "Epoch: [0][0/83]\tTime 0.137 (0.137)\tData 0.011 (0.011)\tLoss 0.6937 (0.6937)\tAccuracy 53.000 (53.000)\n",
      "Epoch: [0][10/83]\tTime 0.021 (0.033)\tData 0.002 (0.004)\tLoss 0.6823 (0.6792)\tAccuracy 59.000 (61.091)\n",
      "Epoch: [0][20/83]\tTime 0.036 (0.030)\tData 0.006 (0.004)\tLoss 0.6970 (0.6790)\tAccuracy 51.000 (61.095)\n",
      "Epoch: [0][30/83]\tTime 0.026 (0.030)\tData 0.003 (0.004)\tLoss 0.6705 (0.6782)\tAccuracy 65.000 (61.323)\n",
      "Epoch: [0][40/83]\tTime 0.020 (0.030)\tData 0.002 (0.004)\tLoss 0.6861 (0.6774)\tAccuracy 57.000 (61.805)\n",
      "Epoch: [0][50/83]\tTime 0.022 (0.029)\tData 0.002 (0.004)\tLoss 0.6915 (0.6777)\tAccuracy 54.000 (61.569)\n",
      "Epoch: [0][60/83]\tTime 0.022 (0.028)\tData 0.002 (0.004)\tLoss 0.6770 (0.6775)\tAccuracy 62.000 (61.607)\n",
      "Epoch: [0][70/83]\tTime 0.028 (0.028)\tData 0.006 (0.004)\tLoss 0.6768 (0.6770)\tAccuracy 64.000 (61.901)\n",
      "Epoch: [0][80/83]\tTime 0.025 (0.028)\tData 0.004 (0.004)\tLoss 0.6977 (0.6765)\tAccuracy 50.000 (62.123)\n",
      "Test: [0/12]\tTime 0.005 (0.005)\tLoss 0.6869 (0.6869)\tAccuracy 56.000 (56.000)\n",
      "Test: [10/12]\tTime 0.005 (0.007)\tLoss 0.6858 (0.6771)\tAccuracy 56.000 (61.455)\n",
      "Epoch: [1][0/83]\tTime 0.018 (0.018)\tData 0.002 (0.002)\tLoss 0.6703 (0.6703)\tAccuracy 64.000 (64.000)\n",
      "Epoch: [1][10/83]\tTime 0.018 (0.023)\tData 0.002 (0.003)\tLoss 0.6917 (0.6807)\tAccuracy 54.000 (59.909)\n",
      "Epoch: [1][20/83]\tTime 0.019 (0.025)\tData 0.002 (0.003)\tLoss 0.6660 (0.6770)\tAccuracy 68.000 (61.714)\n",
      "Epoch: [1][30/83]\tTime 0.021 (0.024)\tData 0.001 (0.003)\tLoss 0.6635 (0.6772)\tAccuracy 70.000 (61.581)\n",
      "Epoch: [1][40/83]\tTime 0.038 (0.024)\tData 0.003 (0.003)\tLoss 0.6697 (0.6766)\tAccuracy 65.000 (61.878)\n",
      "Epoch: [1][50/83]\tTime 0.018 (0.025)\tData 0.003 (0.003)\tLoss 0.6919 (0.6774)\tAccuracy 53.000 (61.510)\n",
      "Epoch: [1][60/83]\tTime 0.027 (0.025)\tData 0.003 (0.003)\tLoss 0.6848 (0.6780)\tAccuracy 57.000 (61.131)\n",
      "Epoch: [1][70/83]\tTime 0.027 (0.026)\tData 0.003 (0.004)\tLoss 0.6677 (0.6772)\tAccuracy 65.000 (61.563)\n",
      "Epoch: [1][80/83]\tTime 0.040 (0.026)\tData 0.007 (0.004)\tLoss 0.6797 (0.6764)\tAccuracy 60.000 (62.000)\n",
      "Test: [0/12]\tTime 0.006 (0.006)\tLoss 0.6869 (0.6869)\tAccuracy 56.000 (56.000)\n",
      "Test: [10/12]\tTime 0.005 (0.007)\tLoss 0.6857 (0.6768)\tAccuracy 56.000 (61.455)\n",
      "Epoch: [2][0/83]\tTime 0.018 (0.018)\tData 0.002 (0.002)\tLoss 0.6886 (0.6886)\tAccuracy 56.000 (56.000)\n",
      "Epoch: [2][10/83]\tTime 0.022 (0.023)\tData 0.002 (0.003)\tLoss 0.6736 (0.6810)\tAccuracy 65.000 (59.636)\n",
      "Epoch: [2][20/83]\tTime 0.030 (0.023)\tData 0.003 (0.003)\tLoss 0.6650 (0.6772)\tAccuracy 67.000 (61.476)\n",
      "Epoch: [2][30/83]\tTime 0.023 (0.024)\tData 0.003 (0.003)\tLoss 0.6896 (0.6771)\tAccuracy 54.000 (61.484)\n",
      "Epoch: [2][40/83]\tTime 0.037 (0.024)\tData 0.007 (0.003)\tLoss 0.6731 (0.6765)\tAccuracy 65.000 (61.756)\n",
      "Epoch: [2][50/83]\tTime 0.022 (0.026)\tData 0.002 (0.004)\tLoss 0.6781 (0.6759)\tAccuracy 60.000 (62.078)\n",
      "Epoch: [2][60/83]\tTime 0.018 (0.027)\tData 0.001 (0.004)\tLoss 0.6750 (0.6761)\tAccuracy 62.000 (61.934)\n",
      "Epoch: [2][70/83]\tTime 0.020 (0.026)\tData 0.002 (0.004)\tLoss 0.6731 (0.6765)\tAccuracy 64.000 (61.746)\n",
      "Epoch: [2][80/83]\tTime 0.024 (0.026)\tData 0.002 (0.004)\tLoss 0.6697 (0.6762)\tAccuracy 67.000 (61.840)\n",
      "Test: [0/12]\tTime 0.006 (0.006)\tLoss 0.6868 (0.6868)\tAccuracy 56.000 (56.000)\n",
      "Test: [10/12]\tTime 0.006 (0.006)\tLoss 0.6856 (0.6765)\tAccuracy 56.000 (61.455)\n",
      "Epoch: [3][0/83]\tTime 0.017 (0.017)\tData 0.002 (0.002)\tLoss 0.6540 (0.6540)\tAccuracy 75.000 (75.000)\n",
      "Epoch: [3][10/83]\tTime 0.024 (0.025)\tData 0.003 (0.004)\tLoss 0.6823 (0.6722)\tAccuracy 59.000 (63.818)\n",
      "Epoch: [3][20/83]\tTime 0.023 (0.025)\tData 0.004 (0.004)\tLoss 0.6656 (0.6753)\tAccuracy 67.000 (62.381)\n",
      "Epoch: [3][30/83]\tTime 0.024 (0.024)\tData 0.002 (0.003)\tLoss 0.6670 (0.6758)\tAccuracy 67.000 (62.129)\n",
      "Epoch: [3][40/83]\tTime 0.027 (0.024)\tData 0.002 (0.003)\tLoss 0.6749 (0.6761)\tAccuracy 62.000 (61.927)\n",
      "Epoch: [3][50/83]\tTime 0.025 (0.025)\tData 0.006 (0.003)\tLoss 0.6931 (0.6762)\tAccuracy 51.000 (61.784)\n",
      "Epoch: [3][60/83]\tTime 0.019 (0.025)\tData 0.003 (0.003)\tLoss 0.7000 (0.6763)\tAccuracy 48.000 (61.738)\n",
      "Epoch: [3][70/83]\tTime 0.032 (0.025)\tData 0.003 (0.003)\tLoss 0.6775 (0.6761)\tAccuracy 60.000 (61.831)\n",
      "Epoch: [3][80/83]\tTime 0.021 (0.026)\tData 0.002 (0.004)\tLoss 0.6695 (0.6758)\tAccuracy 64.000 (62.000)\n",
      "Test: [0/12]\tTime 0.007 (0.007)\tLoss 0.6868 (0.6868)\tAccuracy 56.000 (56.000)\n",
      "Test: [10/12]\tTime 0.006 (0.007)\tLoss 0.6855 (0.6763)\tAccuracy 56.000 (61.455)\n",
      "Epoch: [4][0/83]\tTime 0.020 (0.020)\tData 0.002 (0.002)\tLoss 0.6998 (0.6998)\tAccuracy 51.000 (51.000)\n",
      "Epoch: [4][10/83]\tTime 0.028 (0.028)\tData 0.006 (0.005)\tLoss 0.7048 (0.6799)\tAccuracy 46.000 (60.091)\n",
      "Epoch: [4][20/83]\tTime 0.016 (0.029)\tData 0.001 (0.005)\tLoss 0.6793 (0.6766)\tAccuracy 62.000 (61.714)\n",
      "Epoch: [4][30/83]\tTime 0.039 (0.027)\tData 0.006 (0.005)\tLoss 0.6827 (0.6778)\tAccuracy 59.000 (60.903)\n",
      "Epoch: [4][40/83]\tTime 0.028 (0.027)\tData 0.003 (0.004)\tLoss 0.6563 (0.6767)\tAccuracy 71.000 (61.293)\n",
      "Epoch: [4][50/83]\tTime 0.020 (0.027)\tData 0.003 (0.004)\tLoss 0.6794 (0.6773)\tAccuracy 60.000 (60.980)\n",
      "Epoch: [4][60/83]\tTime 0.073 (0.027)\tData 0.020 (0.004)\tLoss 0.6822 (0.6764)\tAccuracy 59.000 (61.541)\n",
      "Epoch: [4][70/83]\tTime 0.024 (0.028)\tData 0.002 (0.004)\tLoss 0.6691 (0.6759)\tAccuracy 65.000 (61.817)\n",
      "Epoch: [4][80/83]\tTime 0.023 (0.027)\tData 0.002 (0.004)\tLoss 0.6709 (0.6758)\tAccuracy 64.000 (61.901)\n"
     ]
    },
    {
     "ename": "KeyboardInterrupt",
     "evalue": "",
     "output_type": "error",
     "traceback": [
      "\u001b[0;31m---------------------------------------------------------------------------\u001b[0m",
      "\u001b[0;31mKeyboardInterrupt\u001b[0m                         Traceback (most recent call last)",
      "\u001b[0;32m<ipython-input-1-3b1d20cf370c>\u001b[0m in \u001b[0;36m<module>\u001b[0;34m()\u001b[0m\n\u001b[1;32m     63\u001b[0m \u001b[0mvalid_losses\u001b[0m\u001b[0;34m,\u001b[0m \u001b[0mvalid_accuracies\u001b[0m \u001b[0;34m=\u001b[0m \u001b[0;34m[\u001b[0m\u001b[0;34m]\u001b[0m\u001b[0;34m,\u001b[0m \u001b[0;34m[\u001b[0m\u001b[0;34m]\u001b[0m\u001b[0;34m\u001b[0m\u001b[0;34m\u001b[0m\u001b[0m\n\u001b[1;32m     64\u001b[0m \u001b[0;32mfor\u001b[0m \u001b[0mepoch\u001b[0m \u001b[0;32min\u001b[0m \u001b[0mrange\u001b[0m\u001b[0;34m(\u001b[0m\u001b[0mNUM_EPOCHS\u001b[0m\u001b[0;34m)\u001b[0m\u001b[0;34m:\u001b[0m\u001b[0;34m\u001b[0m\u001b[0;34m\u001b[0m\u001b[0m\n\u001b[0;32m---> 65\u001b[0;31m         \u001b[0mtrain_loss\u001b[0m\u001b[0;34m,\u001b[0m \u001b[0mtrain_accuracy\u001b[0m \u001b[0;34m=\u001b[0m \u001b[0mtrain\u001b[0m\u001b[0;34m(\u001b[0m\u001b[0mmodel\u001b[0m\u001b[0;34m,\u001b[0m \u001b[0mdevice\u001b[0m\u001b[0;34m,\u001b[0m \u001b[0mtrain_loader\u001b[0m\u001b[0;34m,\u001b[0m \u001b[0mcriterion\u001b[0m\u001b[0;34m,\u001b[0m \u001b[0moptimizer\u001b[0m\u001b[0;34m,\u001b[0m \u001b[0mepoch\u001b[0m\u001b[0;34m)\u001b[0m\u001b[0;34m\u001b[0m\u001b[0;34m\u001b[0m\u001b[0m\n\u001b[0m\u001b[1;32m     66\u001b[0m         \u001b[0mvalid_loss\u001b[0m\u001b[0;34m,\u001b[0m \u001b[0mvalid_accuracy\u001b[0m\u001b[0;34m,\u001b[0m \u001b[0mvalid_results\u001b[0m \u001b[0;34m=\u001b[0m \u001b[0mevaluate\u001b[0m\u001b[0;34m(\u001b[0m\u001b[0mmodel\u001b[0m\u001b[0;34m,\u001b[0m \u001b[0mdevice\u001b[0m\u001b[0;34m,\u001b[0m \u001b[0mvalid_loader\u001b[0m\u001b[0;34m,\u001b[0m \u001b[0mcriterion\u001b[0m\u001b[0;34m)\u001b[0m\u001b[0;34m\u001b[0m\u001b[0;34m\u001b[0m\u001b[0m\n\u001b[1;32m     67\u001b[0m \u001b[0;34m\u001b[0m\u001b[0m\n",
      "\u001b[0;32m~/Documents/OMSCS/Big-Data-GaTech-Assignments/homework5/code/utils.py\u001b[0m in \u001b[0;36mtrain\u001b[0;34m(model, device, data_loader, criterion, optimizer, epoch, print_freq)\u001b[0m\n\u001b[1;32m     55\u001b[0m \u001b[0;34m\u001b[0m\u001b[0m\n\u001b[1;32m     56\u001b[0m                 \u001b[0moptimizer\u001b[0m\u001b[0;34m.\u001b[0m\u001b[0mzero_grad\u001b[0m\u001b[0;34m(\u001b[0m\u001b[0;34m)\u001b[0m\u001b[0;34m\u001b[0m\u001b[0;34m\u001b[0m\u001b[0m\n\u001b[0;32m---> 57\u001b[0;31m                 \u001b[0moutput\u001b[0m \u001b[0;34m=\u001b[0m \u001b[0mmodel\u001b[0m\u001b[0;34m(\u001b[0m\u001b[0minput\u001b[0m\u001b[0;34m)\u001b[0m\u001b[0;34m\u001b[0m\u001b[0;34m\u001b[0m\u001b[0m\n\u001b[0m\u001b[1;32m     58\u001b[0m                 \u001b[0;31m# print(target)\u001b[0m\u001b[0;34m\u001b[0m\u001b[0;34m\u001b[0m\u001b[0;34m\u001b[0m\u001b[0m\n\u001b[1;32m     59\u001b[0m                 \u001b[0;31m# print(output)\u001b[0m\u001b[0;34m\u001b[0m\u001b[0;34m\u001b[0m\u001b[0;34m\u001b[0m\u001b[0m\n",
      "\u001b[0;32m~/anaconda3/lib/python3.6/site-packages/torch/nn/modules/module.py\u001b[0m in \u001b[0;36m__call__\u001b[0;34m(self, *input, **kwargs)\u001b[0m\n\u001b[1;32m    487\u001b[0m             \u001b[0mresult\u001b[0m \u001b[0;34m=\u001b[0m \u001b[0mself\u001b[0m\u001b[0;34m.\u001b[0m\u001b[0m_slow_forward\u001b[0m\u001b[0;34m(\u001b[0m\u001b[0;34m*\u001b[0m\u001b[0minput\u001b[0m\u001b[0;34m,\u001b[0m \u001b[0;34m**\u001b[0m\u001b[0mkwargs\u001b[0m\u001b[0;34m)\u001b[0m\u001b[0;34m\u001b[0m\u001b[0;34m\u001b[0m\u001b[0m\n\u001b[1;32m    488\u001b[0m         \u001b[0;32melse\u001b[0m\u001b[0;34m:\u001b[0m\u001b[0;34m\u001b[0m\u001b[0;34m\u001b[0m\u001b[0m\n\u001b[0;32m--> 489\u001b[0;31m             \u001b[0mresult\u001b[0m \u001b[0;34m=\u001b[0m \u001b[0mself\u001b[0m\u001b[0;34m.\u001b[0m\u001b[0mforward\u001b[0m\u001b[0;34m(\u001b[0m\u001b[0;34m*\u001b[0m\u001b[0minput\u001b[0m\u001b[0;34m,\u001b[0m \u001b[0;34m**\u001b[0m\u001b[0mkwargs\u001b[0m\u001b[0;34m)\u001b[0m\u001b[0;34m\u001b[0m\u001b[0;34m\u001b[0m\u001b[0m\n\u001b[0m\u001b[1;32m    490\u001b[0m         \u001b[0;32mfor\u001b[0m \u001b[0mhook\u001b[0m \u001b[0;32min\u001b[0m \u001b[0mself\u001b[0m\u001b[0;34m.\u001b[0m\u001b[0m_forward_hooks\u001b[0m\u001b[0;34m.\u001b[0m\u001b[0mvalues\u001b[0m\u001b[0;34m(\u001b[0m\u001b[0;34m)\u001b[0m\u001b[0;34m:\u001b[0m\u001b[0;34m\u001b[0m\u001b[0;34m\u001b[0m\u001b[0m\n\u001b[1;32m    491\u001b[0m             \u001b[0mhook_result\u001b[0m \u001b[0;34m=\u001b[0m \u001b[0mhook\u001b[0m\u001b[0;34m(\u001b[0m\u001b[0mself\u001b[0m\u001b[0;34m,\u001b[0m \u001b[0minput\u001b[0m\u001b[0;34m,\u001b[0m \u001b[0mresult\u001b[0m\u001b[0;34m)\u001b[0m\u001b[0;34m\u001b[0m\u001b[0;34m\u001b[0m\u001b[0m\n",
      "\u001b[0;32m~/Documents/OMSCS/Big-Data-GaTech-Assignments/homework5/code/mymodels.py\u001b[0m in \u001b[0;36mforward\u001b[0;34m(self, input_tuple)\u001b[0m\n\u001b[1;32m    135\u001b[0m \u001b[0;34m\u001b[0m\u001b[0m\n\u001b[1;32m    136\u001b[0m         \u001b[0mseqs\u001b[0m \u001b[0;34m=\u001b[0m \u001b[0mpack_padded_sequence\u001b[0m\u001b[0;34m(\u001b[0m\u001b[0mseqs\u001b[0m\u001b[0;34m,\u001b[0m \u001b[0mlengths\u001b[0m\u001b[0;34m,\u001b[0m \u001b[0mbatch_first\u001b[0m\u001b[0;34m=\u001b[0m\u001b[0;32mTrue\u001b[0m\u001b[0;34m)\u001b[0m\u001b[0;34m\u001b[0m\u001b[0;34m\u001b[0m\u001b[0m\n\u001b[0;32m--> 137\u001b[0;31m         \u001b[0m_\u001b[0m\u001b[0;34m,\u001b[0m \u001b[0;34m(\u001b[0m\u001b[0mseqs\u001b[0m\u001b[0;34m,\u001b[0m\u001b[0m_\u001b[0m\u001b[0;34m)\u001b[0m \u001b[0;34m=\u001b[0m \u001b[0mself\u001b[0m\u001b[0;34m.\u001b[0m\u001b[0mgru\u001b[0m\u001b[0;34m(\u001b[0m\u001b[0mseqs\u001b[0m\u001b[0;34m)\u001b[0m\u001b[0;34m\u001b[0m\u001b[0;34m\u001b[0m\u001b[0m\n\u001b[0m\u001b[1;32m    138\u001b[0m         \u001b[0mseqs\u001b[0m \u001b[0;34m=\u001b[0m \u001b[0mseqs\u001b[0m\u001b[0;34m[\u001b[0m\u001b[0;34m-\u001b[0m\u001b[0;36m1\u001b[0m\u001b[0;34m]\u001b[0m\u001b[0;34m\u001b[0m\u001b[0;34m\u001b[0m\u001b[0m\n\u001b[1;32m    139\u001b[0m \u001b[0;34m\u001b[0m\u001b[0m\n",
      "\u001b[0;32m~/anaconda3/lib/python3.6/site-packages/torch/nn/modules/module.py\u001b[0m in \u001b[0;36m__call__\u001b[0;34m(self, *input, **kwargs)\u001b[0m\n\u001b[1;32m    487\u001b[0m             \u001b[0mresult\u001b[0m \u001b[0;34m=\u001b[0m \u001b[0mself\u001b[0m\u001b[0;34m.\u001b[0m\u001b[0m_slow_forward\u001b[0m\u001b[0;34m(\u001b[0m\u001b[0;34m*\u001b[0m\u001b[0minput\u001b[0m\u001b[0;34m,\u001b[0m \u001b[0;34m**\u001b[0m\u001b[0mkwargs\u001b[0m\u001b[0;34m)\u001b[0m\u001b[0;34m\u001b[0m\u001b[0;34m\u001b[0m\u001b[0m\n\u001b[1;32m    488\u001b[0m         \u001b[0;32melse\u001b[0m\u001b[0;34m:\u001b[0m\u001b[0;34m\u001b[0m\u001b[0;34m\u001b[0m\u001b[0m\n\u001b[0;32m--> 489\u001b[0;31m             \u001b[0mresult\u001b[0m \u001b[0;34m=\u001b[0m \u001b[0mself\u001b[0m\u001b[0;34m.\u001b[0m\u001b[0mforward\u001b[0m\u001b[0;34m(\u001b[0m\u001b[0;34m*\u001b[0m\u001b[0minput\u001b[0m\u001b[0;34m,\u001b[0m \u001b[0;34m**\u001b[0m\u001b[0mkwargs\u001b[0m\u001b[0;34m)\u001b[0m\u001b[0;34m\u001b[0m\u001b[0;34m\u001b[0m\u001b[0m\n\u001b[0m\u001b[1;32m    490\u001b[0m         \u001b[0;32mfor\u001b[0m \u001b[0mhook\u001b[0m \u001b[0;32min\u001b[0m \u001b[0mself\u001b[0m\u001b[0;34m.\u001b[0m\u001b[0m_forward_hooks\u001b[0m\u001b[0;34m.\u001b[0m\u001b[0mvalues\u001b[0m\u001b[0;34m(\u001b[0m\u001b[0;34m)\u001b[0m\u001b[0;34m:\u001b[0m\u001b[0;34m\u001b[0m\u001b[0;34m\u001b[0m\u001b[0m\n\u001b[1;32m    491\u001b[0m             \u001b[0mhook_result\u001b[0m \u001b[0;34m=\u001b[0m \u001b[0mhook\u001b[0m\u001b[0;34m(\u001b[0m\u001b[0mself\u001b[0m\u001b[0;34m,\u001b[0m \u001b[0minput\u001b[0m\u001b[0;34m,\u001b[0m \u001b[0mresult\u001b[0m\u001b[0;34m)\u001b[0m\u001b[0;34m\u001b[0m\u001b[0;34m\u001b[0m\u001b[0m\n",
      "\u001b[0;32m~/anaconda3/lib/python3.6/site-packages/torch/nn/modules/rnn.py\u001b[0m in \u001b[0;36mforward\u001b[0;34m(self, input, hx)\u001b[0m\n\u001b[1;32m    180\u001b[0m         \u001b[0;32melse\u001b[0m\u001b[0;34m:\u001b[0m\u001b[0;34m\u001b[0m\u001b[0;34m\u001b[0m\u001b[0m\n\u001b[1;32m    181\u001b[0m             result = _impl(input, batch_sizes, hx, self._flat_weights, self.bias,\n\u001b[0;32m--> 182\u001b[0;31m                            self.num_layers, self.dropout, self.training, self.bidirectional)\n\u001b[0m\u001b[1;32m    183\u001b[0m         \u001b[0moutput\u001b[0m \u001b[0;34m=\u001b[0m \u001b[0mresult\u001b[0m\u001b[0;34m[\u001b[0m\u001b[0;36m0\u001b[0m\u001b[0;34m]\u001b[0m\u001b[0;34m\u001b[0m\u001b[0;34m\u001b[0m\u001b[0m\n\u001b[1;32m    184\u001b[0m         \u001b[0mhidden\u001b[0m \u001b[0;34m=\u001b[0m \u001b[0mresult\u001b[0m\u001b[0;34m[\u001b[0m\u001b[0;36m1\u001b[0m\u001b[0;34m:\u001b[0m\u001b[0;34m]\u001b[0m \u001b[0;32mif\u001b[0m \u001b[0mself\u001b[0m\u001b[0;34m.\u001b[0m\u001b[0mmode\u001b[0m \u001b[0;34m==\u001b[0m \u001b[0;34m'LSTM'\u001b[0m \u001b[0;32melse\u001b[0m \u001b[0mresult\u001b[0m\u001b[0;34m[\u001b[0m\u001b[0;36m1\u001b[0m\u001b[0;34m]\u001b[0m\u001b[0;34m\u001b[0m\u001b[0;34m\u001b[0m\u001b[0m\n",
      "\u001b[0;31mKeyboardInterrupt\u001b[0m: "
     ]
    }
   ],
   "source": [
    "import os\n",
    "import pickle\n",
    "\n",
    "import torch\n",
    "import torch.nn as nn\n",
    "from torch.utils.data import DataLoader\n",
    "import torch.optim as optim\n",
    "\n",
    "from utils import train, evaluate, make_kaggle_submission\n",
    "from plots import plot_learning_curves, plot_confusion_matrix\n",
    "from mydatasets import calculate_num_features, VisitSequenceWithLabelDataset, visit_collate_fn\n",
    "from mymodels import MyVariableRNN\n",
    "\n",
    "torch.manual_seed(0)\n",
    "if torch.cuda.is_available():\n",
    "\ttorch.cuda.manual_seed(0)\n",
    "\n",
    "# Set a correct path to the data files that you preprocessed\n",
    "PATH_TRAIN_SEQS = \"../data/mortality/processed/mortality.seqs.train\"\n",
    "PATH_TRAIN_LABELS = \"../data/mortality/processed/mortality.labels.train\"\n",
    "PATH_VALID_SEQS = \"../data/mortality/processed/mortality.seqs.validation\"\n",
    "PATH_VALID_LABELS = \"../data/mortality/processed/mortality.labels.validation\"\n",
    "PATH_TEST_SEQS = \"../data/mortality/processed/mortality.seqs.test\"\n",
    "PATH_TEST_LABELS = \"../data/mortality/processed/mortality.labels.test\"\n",
    "PATH_TEST_IDS = \"../data/mortality/processed/mortality.ids.test\"\n",
    "PATH_OUTPUT = \"../output/mortality/\"\n",
    "\n",
    "NUM_EPOCHS = 15\n",
    "BATCH_SIZE = 64\n",
    "USE_CUDA = False  # Set 'True' if you want to use GPU\n",
    "NUM_WORKERS = 0\n",
    "\n",
    "# Data loading\n",
    "print('===> Loading entire datasets')\n",
    "train_seqs = pickle.load(open(PATH_TRAIN_SEQS, 'rb'))\n",
    "train_labels = pickle.load(open(PATH_TRAIN_LABELS, 'rb'))\n",
    "valid_seqs = pickle.load(open(PATH_VALID_SEQS, 'rb'))\n",
    "valid_labels = pickle.load(open(PATH_VALID_LABELS, 'rb'))\n",
    "test_seqs = pickle.load(open(PATH_TEST_SEQS, 'rb'))\n",
    "test_labels = pickle.load(open(PATH_TEST_LABELS, 'rb'))\n",
    "\n",
    "num_features = calculate_num_features(train_seqs)\n",
    "\n",
    "train_dataset = VisitSequenceWithLabelDataset(train_seqs, train_labels, num_features)\n",
    "valid_dataset = VisitSequenceWithLabelDataset(valid_seqs, valid_labels, num_features)\n",
    "test_dataset = VisitSequenceWithLabelDataset(test_seqs, test_labels, num_features)\n",
    "\n",
    "train_loader = DataLoader(dataset=train_dataset, batch_size=BATCH_SIZE, shuffle=True, collate_fn=visit_collate_fn, num_workers=NUM_WORKERS)\n",
    "valid_loader = DataLoader(dataset=valid_dataset, batch_size=BATCH_SIZE, shuffle=False, collate_fn=visit_collate_fn, num_workers=NUM_WORKERS)\n",
    "# batch_size for the test set should be 1 to avoid sorting each mini-batch which breaks the connection with patient IDs\n",
    "test_loader = DataLoader(dataset=test_dataset, batch_size=1, shuffle=False, collate_fn=visit_collate_fn, num_workers=NUM_WORKERS)\n",
    "\n",
    "model = MyVariableRNN(num_features)\n",
    "criterion = nn.CrossEntropyLoss()\n",
    "optimizer = optim.Adadelta(model.parameters())\n",
    "\n",
    "device = torch.device(\"cuda\" if torch.cuda.is_available() and USE_CUDA else \"cpu\")\n",
    "model.to(device)\n",
    "criterion.to(device)\n",
    "\n",
    "best_val_acc = 0.0\n",
    "train_losses, train_accuracies = [], []\n",
    "valid_losses, valid_accuracies = [], []\n",
    "for epoch in range(NUM_EPOCHS):\n",
    "\ttrain_loss, train_accuracy = train(model, device, train_loader, criterion, optimizer, epoch)\n",
    "\tvalid_loss, valid_accuracy, valid_results = evaluate(model, device, valid_loader, criterion)\n",
    "\n",
    "\ttrain_losses.append(train_loss)\n",
    "\tvalid_losses.append(valid_loss)\n",
    "\n",
    "\ttrain_accuracies.append(train_accuracy)\n",
    "\tvalid_accuracies.append(valid_accuracy)\n",
    "\n",
    "\tis_best = valid_accuracy > best_val_acc  # let's keep the model that has the best accuracy, but you can also use another metric.\n",
    "\tif is_best:\n",
    "\t\tbest_val_acc = valid_accuracy\n",
    "\t\ttorch.save(model, os.path.join(PATH_OUTPUT, \"MyVariableRNN.pth\"))\n",
    "\n",
    "best_model = torch.load(os.path.join(PATH_OUTPUT, \"MyVariableRNN.pth\"))\n",
    "# TODO: For your report, try to make plots similar to those in the previous task.\n",
    "# TODO: You may use the validation set in case you cannot use the test set.\n",
    "\n",
    "plot_learning_curves(train_losses, valid_losses, train_accuracies, valid_accuracies)\n",
    "test_loss, test_accuracy, test_results = evaluate(best_model, device, valid_loader, criterion)\n",
    "class_names = ['Mortality', 'Not Mortality']\n",
    "plot_confusion_matrix(test_results, class_names)"
   ]
  },
  {
   "cell_type": "code",
   "execution_count": null,
   "metadata": {},
   "outputs": [],
   "source": [
    "X, y = iter(train_loader).next()"
   ]
  }
 ],
 "metadata": {
  "hide_input": false,
  "kernelspec": {
   "display_name": "Python 3",
   "language": "python",
   "name": "python3"
  },
  "language_info": {
   "codemirror_mode": {
    "name": "ipython",
    "version": 3
   },
   "file_extension": ".py",
   "mimetype": "text/x-python",
   "name": "python",
   "nbconvert_exporter": "python",
   "pygments_lexer": "ipython3",
   "version": "3.6.7"
  },
  "varInspector": {
   "cols": {
    "lenName": 16,
    "lenType": 16,
    "lenVar": 40
   },
   "kernels_config": {
    "python": {
     "delete_cmd_postfix": "",
     "delete_cmd_prefix": "del ",
     "library": "var_list.py",
     "varRefreshCmd": "print(var_dic_list())"
    },
    "r": {
     "delete_cmd_postfix": ") ",
     "delete_cmd_prefix": "rm(",
     "library": "var_list.r",
     "varRefreshCmd": "cat(var_dic_list()) "
    }
   },
   "types_to_exclude": [
    "module",
    "function",
    "builtin_function_or_method",
    "instance",
    "_Feature"
   ],
   "window_display": false
  }
 },
 "nbformat": 4,
 "nbformat_minor": 2
}
