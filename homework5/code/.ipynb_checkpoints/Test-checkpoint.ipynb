{
 "cells": [
  {
   "cell_type": "code",
   "execution_count": 1,
   "metadata": {},
   "outputs": [],
   "source": [
    "import numpy as np\n",
    "import pandas as pd\n",
    "from scipy import sparse\n",
    "import torch\n",
    "from torch.utils.data import TensorDataset, Dataset"
   ]
  },
  {
   "cell_type": "code",
   "execution_count": 2,
   "metadata": {},
   "outputs": [],
   "source": [
    "# mydatasets.py\n",
    "\n",
    "import numpy as np\n",
    "import pandas as pd\n",
    "from scipy import sparse\n",
    "import torch\n",
    "from torch.utils.data import TensorDataset, Dataset\n",
    "from sklearn.preprocessing import StandardScaler\n",
    "\n",
    "\n",
    "def load_seizure_dataset(path, model_type):\n",
    "    \"\"\"\n",
    "    :param path: a path to the seizure data CSV file\n",
    "    :return dataset: a TensorDataset consists of a data Tensor and a target Tensor\n",
    "    \"\"\"\n",
    "    # TODO: Read a csv file from path.\n",
    "    # TODO: Please refer to the header of the file to locate X and y.\n",
    "    # TODO: y in the raw data is ranging from 1 to 5. Change it to be from 0 to 4.\n",
    "    # TODO: Remove the header of CSV file of course.\n",
    "    # TODO: Do Not change the order of rows.\n",
    "    # TODO: You can use Pandas if you want to.\n",
    "\n",
    "    df = pd.read_csv(path)\n",
    "\n",
    "    if model_type == 'MLP':\n",
    "        raw = df.loc[:, \"X1\":\"X178\"].values\n",
    "        scaler = StandardScaler()\n",
    "        scaler.fit(raw)\n",
    "        data = scaler.transform(raw)\n",
    "        target = df['y'].values - 1\n",
    "        dataset = TensorDataset(torch.from_numpy(data.astype('float32')), torch.from_numpy(target.astype('long')))\n",
    "    elif model_type == 'CNN':\n",
    "        raw = df.loc[:, \"X1\":\"X178\"].values\n",
    "        scaler = StandardScaler()\n",
    "        scaler.fit(raw)\n",
    "        data = scaler.transform(raw)\n",
    "        target = df['y'].values - 1\n",
    "        dataset = TensorDataset(torch.from_numpy(data.astype('float32')).unsqueeze(1), torch.from_numpy(target.astype('long')))\n",
    "    elif model_type == 'RNN':\n",
    "        data = df.loc[:, \"X1\":\"X178\"].values\n",
    "        target = df['y'].values - 1\n",
    "        dataset = TensorDataset(torch.from_numpy(data.astype('float32')).unsqueeze(2), torch.from_numpy(target.astype('long')))\n",
    "    else:\n",
    "        raise AssertionError(\"Wrong Model Type!\")\n",
    "    return dataset"
   ]
  },
  {
   "cell_type": "code",
   "execution_count": 3,
   "metadata": {},
   "outputs": [],
   "source": [
    "# mymodels.py\n",
    "\n",
    "import torch\n",
    "import torch.nn as nn\n",
    "from torch.nn.utils.rnn import pack_padded_sequence, pad_packed_sequence\n",
    "import torch.nn.functional as F\n",
    "\n",
    "\n",
    "class MyMLP(nn.Module):\n",
    "    def __init__(self):\n",
    "        super(MyMLP, self).__init__()\n",
    "        self.hidden1 = nn.Linear(178, 16)\n",
    "        self.hidden2 = nn.Linear(64, 16)\n",
    "        self.out = nn.Linear(16, 5)\n",
    "\n",
    "    def forward(self, x):\n",
    "        x = F.relu(self.hidden1(x))\n",
    "        x = F.relu(self.hidden2(x))\n",
    "        x = self.out(x)\n",
    "        return x\n",
    "\n",
    "\n",
    "class MyCNN(nn.Module):\n",
    "    def __init__(self):\n",
    "        super(MyCNN, self).__init__()\n",
    "        self.conv1 = nn.Conv1d(in_channels=1, out_channels=6, kernel_size=5)\n",
    "        self.conv1_bn = nn.BatchNorm1d(6)\n",
    "        self.pool = nn.MaxPool1d(kernel_size=2, stride=2)\n",
    "        self.conv2 = nn.Conv1d(in_channels=6, out_channels=16, kernel_size=5)\n",
    "        self.conv2_bn = nn.BatchNorm1d(16)\n",
    "        self.fc1 = nn.Linear(in_features=16*41, out_features=128)\n",
    "        self.fc1_bn = nn.BatchNorm1d(128)\n",
    "        self.fc2 = nn.Linear(128, 5)\n",
    "        \n",
    "    def forward(self, x):\n",
    "#         x = self.pool(F.relu(self.conv1_bn(self.conv1(x))))\n",
    "#         x = self.pool(F.relu(self.conv2_bn(self.conv2(x))))\n",
    "#         x = x.view(-1, 16*41) # Flatten the output to a vector feed into dense layer\n",
    "#         x = F.relu(self.fc1_bn(self.fc1(x)))\n",
    "#         x = self.fc2(x)\n",
    "\n",
    "        x = self.conv1_bn(self.pool(F.relu(self.conv1(x))))\n",
    "        x = self.conv2_bn(self.pool(F.relu(self.conv2(x))))\n",
    "        x = x.view(-1, 16*41) # Flatten the output to a vector feed into dense layer\n",
    "        x = self.fc1_bn(F.relu(self.fc1(x)))\n",
    "        x = self.fc2(x)\n",
    "        return x\n",
    "\n",
    "\n",
    "# class MyRNN(nn.Module):\n",
    "# def __init__(self):\n",
    "#     super(MyRNN, self).__init__()\n",
    "\n",
    "# def forward(self, x):\n",
    "#     return x\n",
    "\n",
    "\n",
    "# class MyVariableRNN(nn.Module):\n",
    "# def __init__(self, dim_input):\n",
    "#     super(MyVariableRNN, self).__init__()\n",
    "#     # You may use the input argument 'dim_input', which is basically the number of features\n",
    "\n",
    "# def forward(self, input_tuple):\n",
    "#     # HINT: Following two methods might be useful\n",
    "#     # 'pack_padded_sequence' and 'pad_packed_sequence' from torch.nn.utils.rnn\n",
    "\n",
    "#     seqs, lengths = input_tuple\n",
    "\n",
    "#     return seqs"
   ]
  },
  {
   "cell_type": "code",
   "execution_count": 4,
   "metadata": {},
   "outputs": [],
   "source": [
    "# plots.py\n",
    "\n",
    "import matplotlib.pyplot as plt\n",
    "# TODO: You can use other packages if you want, e.g., Numpy, Scikit-learn, etc.\n",
    "from sklearn.metrics import confusion_matrix\n",
    "\n",
    "\n",
    "def plot_learning_curves(train_losses, valid_losses, train_accuracies, valid_accuracies):\n",
    "    # TODO: Make plots for loss curves and accuracy curves.\n",
    "    # TODO: You do not have to return the plots.\n",
    "    # TODO: You can save plots as files by codes here or an interactive way according to your preference.\n",
    "    \n",
    "    # Loss curve\n",
    "    plt.plot(train_losses, label='Train')\n",
    "    plt.plot(valid_losses, label='Validation')\n",
    "    plt.ylabel('Loss')\n",
    "    plt.xlabel('Epoch')\n",
    "    plt.title('Loss Curve')\n",
    "    plt.legend()\n",
    "    plt.show()\n",
    "    \n",
    "    # Accuracy Curve\n",
    "    plt.plot(train_accuracies, label='Train')\n",
    "    plt.plot(valid_accuracies, label='Validation')\n",
    "    plt.ylabel('Accuracy')\n",
    "    plt.xlabel('Epoch')\n",
    "    plt.title('Accuracy Curve')\n",
    "    plt.legend()\n",
    "    plt.show()\n",
    "    pass\n",
    "\n",
    "\n",
    "def plot_confusion_matrix(results, class_names):\n",
    "    # TODO: Make a confusion matrix plot.\n",
    "    # TODO: You do not have to return the plots.\n",
    "    # TODO: You can save plots as files by codes here or an interactive way according to your preference.\n",
    "    y_true = list(zip(*test_results))[0]\n",
    "    y_pred = list(zip(*test_results))[1]\n",
    "    cm = confusion_matrix(y_true, y_pred)\n",
    "    cm = cm.astype('float') / cm.sum(axis=1)[:, np.newaxis]\n",
    "    \n",
    "    cmap=plt.cm.Blues\n",
    "    fig, ax = plt.subplots()\n",
    "    im = ax.imshow(cm, interpolation='nearest', cmap=cmap)\n",
    "    ax.figure.colorbar(im, ax=ax)\n",
    "    ax.set(xticks=np.arange(cm.shape[1]),\n",
    "           yticks=np.arange(cm.shape[0]),\n",
    "           xticklabels=class_names, yticklabels=class_names,\n",
    "           title=\"Confusion Matrix\",\n",
    "           ylabel='True label',\n",
    "           xlabel='Predicted label')\n",
    "\n",
    "    # Rotate the tick labels and set their alignment.\n",
    "    plt.setp(ax.get_xticklabels(), rotation=45, ha=\"right\",\n",
    "             rotation_mode=\"anchor\")\n",
    "\n",
    "    # Loop over data dimensions and create text annotations.\n",
    "    fmt = '.2f'\n",
    "    thresh = cm.max() / 2.\n",
    "    for i in range(cm.shape[0]):\n",
    "        for j in range(cm.shape[1]):\n",
    "            ax.text(j, i, format(cm[i, j], fmt),\n",
    "                    ha=\"center\", va=\"center\",\n",
    "                    color=\"white\" if cm[i, j] > thresh else \"black\")\n",
    "    fig.tight_layout()\n",
    "    plt.show()\n",
    "    \n"
   ]
  },
  {
   "cell_type": "code",
   "execution_count": 5,
   "metadata": {
    "scrolled": false
   },
   "outputs": [
    {
     "name": "stderr",
     "output_type": "stream",
     "text": [
      "/Users/naumanw1/anaconda3/lib/python3.7/site-packages/sklearn/utils/validation.py:595: DataConversionWarning: Data with input dtype int64 was converted to float64 by StandardScaler.\n",
      "  warnings.warn(msg, DataConversionWarning)\n",
      "/Users/naumanw1/anaconda3/lib/python3.7/site-packages/sklearn/utils/validation.py:595: DataConversionWarning: Data with input dtype int64 was converted to float64 by StandardScaler.\n",
      "  warnings.warn(msg, DataConversionWarning)\n",
      "/Users/naumanw1/anaconda3/lib/python3.7/site-packages/sklearn/utils/validation.py:595: DataConversionWarning: Data with input dtype int64 was converted to float64 by StandardScaler.\n",
      "  warnings.warn(msg, DataConversionWarning)\n",
      "/Users/naumanw1/anaconda3/lib/python3.7/site-packages/sklearn/utils/validation.py:595: DataConversionWarning: Data with input dtype int64 was converted to float64 by StandardScaler.\n",
      "  warnings.warn(msg, DataConversionWarning)\n",
      "/Users/naumanw1/anaconda3/lib/python3.7/site-packages/sklearn/utils/validation.py:595: DataConversionWarning: Data with input dtype int64 was converted to float64 by StandardScaler.\n",
      "  warnings.warn(msg, DataConversionWarning)\n",
      "/Users/naumanw1/anaconda3/lib/python3.7/site-packages/sklearn/utils/validation.py:595: DataConversionWarning: Data with input dtype int64 was converted to float64 by StandardScaler.\n",
      "  warnings.warn(msg, DataConversionWarning)\n"
     ]
    },
    {
     "name": "stdout",
     "output_type": "stream",
     "text": [
      "Epoch: [0][0/252]\tTime 0.137 (0.137)\tData 0.047 (0.047)\tLoss 1.6115 (1.6115)\tAccuracy 21.000 (21.000)\n",
      "Epoch: [0][10/252]\tTime 0.011 (0.023)\tData 0.001 (0.005)\tLoss 1.1492 (1.3066)\tAccuracy 50.000 (41.000)\n",
      "Epoch: [0][20/252]\tTime 0.016 (0.017)\tData 0.001 (0.003)\tLoss 1.2723 (1.2590)\tAccuracy 37.000 (44.714)\n",
      "Epoch: [0][30/252]\tTime 0.011 (0.015)\tData 0.001 (0.002)\tLoss 1.3199 (1.2427)\tAccuracy 37.000 (45.226)\n",
      "Epoch: [0][40/252]\tTime 0.017 (0.015)\tData 0.001 (0.002)\tLoss 1.0709 (1.2133)\tAccuracy 43.000 (46.171)\n",
      "Epoch: [0][50/252]\tTime 0.014 (0.015)\tData 0.001 (0.002)\tLoss 0.9653 (1.1920)\tAccuracy 62.000 (47.941)\n",
      "Epoch: [0][60/252]\tTime 0.017 (0.015)\tData 0.001 (0.002)\tLoss 1.0459 (1.1762)\tAccuracy 56.000 (48.492)\n",
      "Epoch: [0][70/252]\tTime 0.014 (0.015)\tData 0.001 (0.001)\tLoss 1.0035 (1.1507)\tAccuracy 40.000 (49.746)\n",
      "Epoch: [0][80/252]\tTime 0.010 (0.015)\tData 0.001 (0.001)\tLoss 1.0096 (1.1285)\tAccuracy 56.000 (51.037)\n",
      "Epoch: [0][90/252]\tTime 0.010 (0.014)\tData 0.001 (0.001)\tLoss 0.8632 (1.1115)\tAccuracy 62.000 (51.308)\n",
      "Epoch: [0][100/252]\tTime 0.015 (0.014)\tData 0.001 (0.001)\tLoss 0.9613 (1.0940)\tAccuracy 56.000 (52.030)\n",
      "Epoch: [0][110/252]\tTime 0.011 (0.014)\tData 0.001 (0.001)\tLoss 0.8740 (1.0784)\tAccuracy 56.000 (52.874)\n",
      "Epoch: [0][120/252]\tTime 0.010 (0.014)\tData 0.001 (0.001)\tLoss 0.9573 (1.0612)\tAccuracy 53.000 (53.380)\n",
      "Epoch: [0][130/252]\tTime 0.010 (0.014)\tData 0.001 (0.001)\tLoss 1.1764 (1.0534)\tAccuracy 40.000 (53.740)\n",
      "Epoch: [0][140/252]\tTime 0.011 (0.013)\tData 0.001 (0.001)\tLoss 1.0628 (1.0485)\tAccuracy 46.000 (53.716)\n",
      "Epoch: [0][150/252]\tTime 0.012 (0.013)\tData 0.001 (0.001)\tLoss 1.0606 (1.0394)\tAccuracy 46.000 (54.013)\n",
      "Epoch: [0][160/252]\tTime 0.016 (0.013)\tData 0.001 (0.001)\tLoss 0.9708 (1.0274)\tAccuracy 62.000 (54.516)\n",
      "Epoch: [0][170/252]\tTime 0.010 (0.013)\tData 0.001 (0.001)\tLoss 0.8662 (1.0147)\tAccuracy 56.000 (54.918)\n",
      "Epoch: [0][180/252]\tTime 0.010 (0.013)\tData 0.001 (0.001)\tLoss 1.1090 (1.0070)\tAccuracy 34.000 (55.188)\n",
      "Epoch: [0][190/252]\tTime 0.010 (0.013)\tData 0.001 (0.001)\tLoss 0.6796 (0.9962)\tAccuracy 65.000 (55.461)\n",
      "Epoch: [0][200/252]\tTime 0.022 (0.013)\tData 0.001 (0.001)\tLoss 0.9893 (0.9883)\tAccuracy 68.000 (55.761)\n",
      "Epoch: [0][210/252]\tTime 0.010 (0.013)\tData 0.001 (0.001)\tLoss 0.6340 (0.9835)\tAccuracy 78.000 (55.929)\n",
      "Epoch: [0][220/252]\tTime 0.011 (0.013)\tData 0.001 (0.001)\tLoss 0.9811 (0.9762)\tAccuracy 53.000 (56.176)\n",
      "Epoch: [0][230/252]\tTime 0.018 (0.013)\tData 0.001 (0.001)\tLoss 0.7724 (0.9693)\tAccuracy 65.000 (56.494)\n",
      "Epoch: [0][240/252]\tTime 0.010 (0.013)\tData 0.001 (0.001)\tLoss 0.8652 (0.9641)\tAccuracy 53.000 (56.531)\n",
      "Epoch: [0][250/252]\tTime 0.010 (0.013)\tData 0.001 (0.001)\tLoss 0.8382 (0.9589)\tAccuracy 65.000 (56.833)\n",
      "Test: [0/36]\tTime 0.048 (0.048)\tLoss 0.7521 (0.7521)\tAccuracy 68.000 (68.000)\n",
      "Test: [10/36]\tTime 0.004 (0.009)\tLoss 0.7056 (0.8281)\tAccuracy 65.000 (61.727)\n",
      "Test: [20/36]\tTime 0.005 (0.007)\tLoss 0.7905 (0.7944)\tAccuracy 65.000 (61.857)\n",
      "Test: [30/36]\tTime 0.004 (0.006)\tLoss 0.8526 (0.8061)\tAccuracy 53.000 (61.226)\n"
     ]
    },
    {
     "name": "stderr",
     "output_type": "stream",
     "text": [
      "/Users/naumanw1/anaconda3/lib/python3.7/site-packages/torch/serialization.py:251: UserWarning: Couldn't retrieve source code for container of type MyCNN. It won't be checked for correctness upon loading.\n",
      "  \"type \" + obj.__name__ + \". It won't be checked \"\n"
     ]
    },
    {
     "name": "stdout",
     "output_type": "stream",
     "text": [
      "Epoch: [1][0/252]\tTime 0.050 (0.050)\tData 0.030 (0.030)\tLoss 1.1456 (1.1456)\tAccuracy 56.000 (56.000)\n",
      "Epoch: [1][10/252]\tTime 0.010 (0.017)\tData 0.001 (0.004)\tLoss 0.7746 (0.7881)\tAccuracy 65.000 (65.545)\n",
      "Epoch: [1][20/252]\tTime 0.010 (0.015)\tData 0.001 (0.002)\tLoss 0.7270 (0.7481)\tAccuracy 65.000 (66.810)\n",
      "Epoch: [1][30/252]\tTime 0.010 (0.014)\tData 0.001 (0.002)\tLoss 0.7967 (0.7712)\tAccuracy 71.000 (65.129)\n",
      "Epoch: [1][40/252]\tTime 0.012 (0.013)\tData 0.001 (0.002)\tLoss 0.7660 (0.7498)\tAccuracy 68.000 (66.488)\n",
      "Epoch: [1][50/252]\tTime 0.010 (0.013)\tData 0.001 (0.001)\tLoss 0.9640 (0.7702)\tAccuracy 65.000 (65.961)\n",
      "Epoch: [1][60/252]\tTime 0.010 (0.014)\tData 0.001 (0.001)\tLoss 0.6305 (0.7688)\tAccuracy 68.000 (65.279)\n",
      "Epoch: [1][70/252]\tTime 0.013 (0.014)\tData 0.001 (0.001)\tLoss 0.9277 (0.7697)\tAccuracy 46.000 (65.042)\n",
      "Epoch: [1][80/252]\tTime 0.010 (0.013)\tData 0.001 (0.001)\tLoss 0.9374 (0.7718)\tAccuracy 53.000 (64.914)\n",
      "Epoch: [1][90/252]\tTime 0.010 (0.013)\tData 0.001 (0.001)\tLoss 0.6804 (0.7815)\tAccuracy 78.000 (64.725)\n",
      "Epoch: [1][100/252]\tTime 0.011 (0.013)\tData 0.001 (0.001)\tLoss 0.7693 (0.7784)\tAccuracy 71.000 (64.822)\n",
      "Epoch: [1][110/252]\tTime 0.009 (0.013)\tData 0.001 (0.001)\tLoss 0.5728 (0.7695)\tAccuracy 81.000 (65.135)\n",
      "Epoch: [1][120/252]\tTime 0.009 (0.013)\tData 0.001 (0.001)\tLoss 0.7018 (0.7707)\tAccuracy 75.000 (65.132)\n",
      "Epoch: [1][130/252]\tTime 0.010 (0.013)\tData 0.001 (0.001)\tLoss 0.6528 (0.7743)\tAccuracy 68.000 (64.893)\n",
      "Epoch: [1][140/252]\tTime 0.012 (0.013)\tData 0.001 (0.001)\tLoss 0.6860 (0.7674)\tAccuracy 75.000 (65.305)\n",
      "Epoch: [1][150/252]\tTime 0.019 (0.013)\tData 0.001 (0.001)\tLoss 0.7249 (0.7632)\tAccuracy 71.000 (65.377)\n",
      "Epoch: [1][160/252]\tTime 0.010 (0.013)\tData 0.001 (0.001)\tLoss 0.5254 (0.7627)\tAccuracy 71.000 (65.453)\n",
      "Epoch: [1][170/252]\tTime 0.018 (0.013)\tData 0.001 (0.001)\tLoss 0.6841 (0.7617)\tAccuracy 65.000 (65.474)\n",
      "Epoch: [1][180/252]\tTime 0.020 (0.013)\tData 0.001 (0.001)\tLoss 0.6528 (0.7607)\tAccuracy 65.000 (65.569)\n",
      "Epoch: [1][190/252]\tTime 0.010 (0.013)\tData 0.001 (0.001)\tLoss 0.5787 (0.7579)\tAccuracy 75.000 (65.644)\n",
      "Epoch: [1][200/252]\tTime 0.010 (0.013)\tData 0.001 (0.001)\tLoss 0.5688 (0.7568)\tAccuracy 75.000 (65.612)\n",
      "Epoch: [1][210/252]\tTime 0.010 (0.013)\tData 0.001 (0.001)\tLoss 0.5535 (0.7530)\tAccuracy 78.000 (65.825)\n",
      "Epoch: [1][220/252]\tTime 0.010 (0.013)\tData 0.001 (0.001)\tLoss 0.5131 (0.7510)\tAccuracy 75.000 (65.629)\n",
      "Epoch: [1][230/252]\tTime 0.020 (0.013)\tData 0.001 (0.001)\tLoss 0.5661 (0.7500)\tAccuracy 75.000 (65.636)\n",
      "Epoch: [1][240/252]\tTime 0.011 (0.013)\tData 0.001 (0.001)\tLoss 0.5685 (0.7485)\tAccuracy 75.000 (65.805)\n",
      "Epoch: [1][250/252]\tTime 0.009 (0.013)\tData 0.001 (0.001)\tLoss 0.7843 (0.7483)\tAccuracy 59.000 (65.769)\n",
      "Test: [0/36]\tTime 0.055 (0.055)\tLoss 0.8127 (0.8127)\tAccuracy 62.000 (62.000)\n",
      "Test: [10/36]\tTime 0.004 (0.009)\tLoss 0.7597 (0.7956)\tAccuracy 62.000 (60.636)\n",
      "Test: [20/36]\tTime 0.004 (0.007)\tLoss 0.7256 (0.7569)\tAccuracy 65.000 (64.095)\n",
      "Test: [30/36]\tTime 0.004 (0.006)\tLoss 0.7385 (0.7709)\tAccuracy 71.000 (63.613)\n",
      "Epoch: [2][0/252]\tTime 0.059 (0.059)\tData 0.033 (0.033)\tLoss 0.4900 (0.4900)\tAccuracy 75.000 (75.000)\n",
      "Epoch: [2][10/252]\tTime 0.010 (0.022)\tData 0.001 (0.008)\tLoss 1.0145 (0.7082)\tAccuracy 56.000 (69.091)\n",
      "Epoch: [2][20/252]\tTime 0.010 (0.017)\tData 0.001 (0.004)\tLoss 0.4979 (0.6900)\tAccuracy 78.000 (67.524)\n",
      "Epoch: [2][30/252]\tTime 0.015 (0.016)\tData 0.001 (0.003)\tLoss 0.6575 (0.6585)\tAccuracy 68.000 (69.452)\n",
      "Epoch: [2][40/252]\tTime 0.032 (0.016)\tData 0.001 (0.003)\tLoss 0.4841 (0.6634)\tAccuracy 75.000 (68.561)\n",
      "Epoch: [2][50/252]\tTime 0.010 (0.017)\tData 0.001 (0.002)\tLoss 0.5874 (0.6710)\tAccuracy 65.000 (67.510)\n",
      "Epoch: [2][60/252]\tTime 0.022 (0.017)\tData 0.001 (0.002)\tLoss 0.5957 (0.6763)\tAccuracy 84.000 (67.770)\n",
      "Epoch: [2][70/252]\tTime 0.010 (0.016)\tData 0.001 (0.002)\tLoss 0.7706 (0.6770)\tAccuracy 65.000 (67.789)\n",
      "Epoch: [2][80/252]\tTime 0.010 (0.015)\tData 0.001 (0.002)\tLoss 0.5863 (0.6759)\tAccuracy 78.000 (68.062)\n",
      "Epoch: [2][90/252]\tTime 0.011 (0.016)\tData 0.001 (0.002)\tLoss 0.7274 (0.6768)\tAccuracy 56.000 (68.143)\n",
      "Epoch: [2][100/252]\tTime 0.010 (0.015)\tData 0.001 (0.002)\tLoss 0.5015 (0.6759)\tAccuracy 75.000 (68.277)\n",
      "Epoch: [2][110/252]\tTime 0.010 (0.015)\tData 0.001 (0.001)\tLoss 0.7565 (0.6751)\tAccuracy 78.000 (68.595)\n",
      "Epoch: [2][120/252]\tTime 0.023 (0.015)\tData 0.001 (0.001)\tLoss 0.8435 (0.6746)\tAccuracy 62.000 (68.521)\n",
      "Epoch: [2][130/252]\tTime 0.021 (0.015)\tData 0.001 (0.001)\tLoss 0.6095 (0.6750)\tAccuracy 75.000 (68.565)\n",
      "Epoch: [2][140/252]\tTime 0.156 (0.016)\tData 0.001 (0.001)\tLoss 0.6436 (0.6746)\tAccuracy 65.000 (68.681)\n",
      "Epoch: [2][150/252]\tTime 0.010 (0.017)\tData 0.001 (0.001)\tLoss 0.5126 (0.6729)\tAccuracy 68.000 (68.861)\n",
      "Epoch: [2][160/252]\tTime 0.010 (0.016)\tData 0.001 (0.001)\tLoss 0.8807 (0.6739)\tAccuracy 75.000 (68.770)\n",
      "Epoch: [2][170/252]\tTime 0.012 (0.016)\tData 0.001 (0.001)\tLoss 0.6318 (0.6710)\tAccuracy 68.000 (68.906)\n",
      "Epoch: [2][180/252]\tTime 0.011 (0.016)\tData 0.001 (0.001)\tLoss 0.5799 (0.6707)\tAccuracy 75.000 (68.989)\n",
      "Epoch: [2][190/252]\tTime 0.011 (0.016)\tData 0.001 (0.001)\tLoss 0.6684 (0.6691)\tAccuracy 71.000 (69.162)\n",
      "Epoch: [2][200/252]\tTime 0.029 (0.017)\tData 0.001 (0.001)\tLoss 0.8762 (0.6672)\tAccuracy 59.000 (69.209)\n",
      "Epoch: [2][210/252]\tTime 0.016 (0.017)\tData 0.001 (0.001)\tLoss 0.5687 (0.6666)\tAccuracy 71.000 (69.000)\n",
      "Epoch: [2][220/252]\tTime 0.010 (0.016)\tData 0.001 (0.001)\tLoss 0.6898 (0.6670)\tAccuracy 59.000 (68.923)\n",
      "Epoch: [2][230/252]\tTime 0.010 (0.016)\tData 0.001 (0.001)\tLoss 0.6459 (0.6642)\tAccuracy 68.000 (69.065)\n",
      "Epoch: [2][240/252]\tTime 0.011 (0.016)\tData 0.001 (0.001)\tLoss 0.7418 (0.6626)\tAccuracy 59.000 (69.112)\n",
      "Epoch: [2][250/252]\tTime 0.010 (0.016)\tData 0.001 (0.001)\tLoss 0.7575 (0.6644)\tAccuracy 65.000 (69.044)\n",
      "Test: [0/36]\tTime 0.055 (0.055)\tLoss 0.6611 (0.6611)\tAccuracy 78.000 (78.000)\n",
      "Test: [10/36]\tTime 0.004 (0.018)\tLoss 0.5907 (0.6601)\tAccuracy 75.000 (70.273)\n",
      "Test: [20/36]\tTime 0.006 (0.012)\tLoss 0.5565 (0.6198)\tAccuracy 81.000 (72.143)\n",
      "Test: [30/36]\tTime 0.003 (0.009)\tLoss 0.5256 (0.6292)\tAccuracy 84.000 (71.774)\n",
      "Epoch: [3][0/252]\tTime 0.052 (0.052)\tData 0.028 (0.028)\tLoss 0.5833 (0.5833)\tAccuracy 75.000 (75.000)\n",
      "Epoch: [3][10/252]\tTime 0.011 (0.018)\tData 0.001 (0.004)\tLoss 0.4887 (0.5587)\tAccuracy 71.000 (72.909)\n",
      "Epoch: [3][20/252]\tTime 0.011 (0.016)\tData 0.001 (0.002)\tLoss 0.6254 (0.5720)\tAccuracy 71.000 (71.381)\n",
      "Epoch: [3][30/252]\tTime 0.010 (0.016)\tData 0.001 (0.002)\tLoss 0.6997 (0.6012)\tAccuracy 81.000 (71.710)\n",
      "Epoch: [3][40/252]\tTime 0.022 (0.016)\tData 0.001 (0.002)\tLoss 0.5476 (0.6063)\tAccuracy 81.000 (72.659)\n",
      "Epoch: [3][50/252]\tTime 0.010 (0.016)\tData 0.001 (0.001)\tLoss 0.5687 (0.6095)\tAccuracy 71.000 (72.118)\n",
      "Epoch: [3][60/252]\tTime 0.010 (0.017)\tData 0.001 (0.001)\tLoss 0.6112 (0.6092)\tAccuracy 71.000 (72.475)\n",
      "Epoch: [3][70/252]\tTime 0.010 (0.016)\tData 0.001 (0.001)\tLoss 0.7961 (0.6165)\tAccuracy 59.000 (72.479)\n",
      "Epoch: [3][80/252]\tTime 0.011 (0.016)\tData 0.001 (0.001)\tLoss 0.5462 (0.6104)\tAccuracy 71.000 (72.667)\n",
      "Epoch: [3][90/252]\tTime 0.011 (0.015)\tData 0.001 (0.001)\tLoss 0.6318 (0.6082)\tAccuracy 78.000 (72.813)\n",
      "Epoch: [3][100/252]\tTime 0.028 (0.015)\tData 0.001 (0.001)\tLoss 0.4624 (0.6146)\tAccuracy 84.000 (72.337)\n",
      "Epoch: [3][110/252]\tTime 0.016 (0.014)\tData 0.001 (0.001)\tLoss 0.5225 (0.6128)\tAccuracy 81.000 (72.279)\n",
      "Epoch: [3][120/252]\tTime 0.011 (0.014)\tData 0.001 (0.001)\tLoss 0.5330 (0.6139)\tAccuracy 81.000 (72.207)\n",
      "Epoch: [3][130/252]\tTime 0.011 (0.014)\tData 0.001 (0.001)\tLoss 0.5784 (0.6188)\tAccuracy 75.000 (71.908)\n",
      "Epoch: [3][140/252]\tTime 0.011 (0.014)\tData 0.001 (0.001)\tLoss 0.6540 (0.6161)\tAccuracy 81.000 (71.908)\n",
      "Epoch: [3][150/252]\tTime 0.010 (0.013)\tData 0.001 (0.001)\tLoss 0.4159 (0.6151)\tAccuracy 87.000 (72.007)\n",
      "Epoch: [3][160/252]\tTime 0.013 (0.013)\tData 0.001 (0.001)\tLoss 0.4208 (0.6189)\tAccuracy 81.000 (71.634)\n",
      "Epoch: [3][170/252]\tTime 0.010 (0.013)\tData 0.001 (0.001)\tLoss 0.5689 (0.6183)\tAccuracy 75.000 (71.626)\n",
      "Epoch: [3][180/252]\tTime 0.010 (0.013)\tData 0.001 (0.001)\tLoss 0.5931 (0.6137)\tAccuracy 68.000 (71.873)\n",
      "Epoch: [3][190/252]\tTime 0.011 (0.013)\tData 0.001 (0.001)\tLoss 0.5516 (0.6159)\tAccuracy 78.000 (71.785)\n",
      "Epoch: [3][200/252]\tTime 0.010 (0.013)\tData 0.001 (0.001)\tLoss 0.4479 (0.6151)\tAccuracy 84.000 (71.771)\n",
      "Epoch: [3][210/252]\tTime 0.013 (0.013)\tData 0.003 (0.001)\tLoss 0.6925 (0.6142)\tAccuracy 65.000 (71.763)\n"
     ]
    },
    {
     "name": "stdout",
     "output_type": "stream",
     "text": [
      "Epoch: [3][220/252]\tTime 0.014 (0.013)\tData 0.001 (0.001)\tLoss 0.5807 (0.6136)\tAccuracy 68.000 (71.719)\n",
      "Epoch: [3][230/252]\tTime 0.010 (0.013)\tData 0.001 (0.001)\tLoss 0.7869 (0.6150)\tAccuracy 56.000 (71.541)\n",
      "Epoch: [3][240/252]\tTime 0.010 (0.013)\tData 0.001 (0.001)\tLoss 0.8595 (0.6177)\tAccuracy 53.000 (71.340)\n",
      "Epoch: [3][250/252]\tTime 0.010 (0.013)\tData 0.001 (0.001)\tLoss 0.5961 (0.6191)\tAccuracy 84.000 (71.215)\n",
      "Test: [0/36]\tTime 0.046 (0.046)\tLoss 0.6088 (0.6088)\tAccuracy 84.000 (84.000)\n",
      "Test: [10/36]\tTime 0.004 (0.009)\tLoss 0.6101 (0.6507)\tAccuracy 75.000 (72.000)\n",
      "Test: [20/36]\tTime 0.004 (0.007)\tLoss 0.5220 (0.5968)\tAccuracy 84.000 (74.476)\n",
      "Test: [30/36]\tTime 0.003 (0.006)\tLoss 0.5368 (0.6002)\tAccuracy 78.000 (73.677)\n"
     ]
    },
    {
     "data": {
      "image/png": "[encoded data removed]",
      "text/plain": [
       "<Figure size 432x288 with 1 Axes>"
      ]
     },
     "metadata": {
      "needs_background": "light"
     },
     "output_type": "display_data"
    },
    {
     "data": {
      "image/png": "[encoded data removed]",
      "text/plain": [
       "<Figure size 432x288 with 1 Axes>"
      ]
     },
     "metadata": {
      "needs_background": "light"
     },
     "output_type": "display_data"
    },
    {
     "name": "stdout",
     "output_type": "stream",
     "text": [
      "Test: [0/36]\tTime 0.025 (0.025)\tLoss 0.5325 (0.5325)\tAccuracy 68.000 (68.000)\n",
      "Test: [10/36]\tTime 0.004 (0.006)\tLoss 0.4949 (0.5985)\tAccuracy 71.000 (70.545)\n",
      "Test: [20/36]\tTime 0.003 (0.013)\tLoss 0.6319 (0.5879)\tAccuracy 65.000 (71.286)\n",
      "Test: [30/36]\tTime 0.002 (0.010)\tLoss 0.4984 (0.6003)\tAccuracy 81.000 (71.548)\n"
     ]
    },
    {
     "data": {
      "image/png": "[encoded data removed]",
      "text/plain": [
       "<Figure size 432x288 with 2 Axes>"
      ]
     },
     "metadata": {
      "needs_background": "light"
     },
     "output_type": "display_data"
    }
   ],
   "source": [
    "# train_seizure.py\n",
    "\n",
    "import os\n",
    "import sys\n",
    "import torch\n",
    "import torch.nn as nn\n",
    "from torch.utils.data import DataLoader\n",
    "import torch.optim as optim\n",
    "\n",
    "# from mydatasets import load_seizure_dataset\n",
    "from utils import train, evaluate\n",
    "# from plots import plot_learning_curves, plot_confusion_matrix\n",
    "# from mymodels import MyMLP, MyCNN, MyRNN\n",
    "\n",
    "torch.manual_seed(0)\n",
    "if torch.cuda.is_available():\n",
    "    torch.cuda.manual_seed(0)\n",
    "\n",
    "# Set a correct path to the seizure data file you downloaded\n",
    "PATH_TRAIN_FILE = \"../data/seizure/seizure_train.csv\"\n",
    "PATH_VALID_FILE = \"../data/seizure/seizure_validation.csv\"\n",
    "PATH_TEST_FILE = \"../data/seizure/seizure_test.csv\"\n",
    "\n",
    "# Path for saving model\n",
    "PATH_OUTPUT = \"../output/seizure/\"\n",
    "os.makedirs(PATH_OUTPUT, exist_ok=True)\n",
    "\n",
    "# Some parameters\n",
    "MODEL_TYPE = 'CNN'  # TODO: Change this to 'MLP', 'CNN', or 'RNN' according to your task\n",
    "NUM_EPOCHS = 4\n",
    "BATCH_SIZE = 32\n",
    "USE_CUDA = False  # Set 'True' if you want to use GPU\n",
    "NUM_WORKERS = 2  # Number of threads used by DataLoader. You can adjust this according to your machine spec.\n",
    "\n",
    "train_dataset = load_seizure_dataset(PATH_TRAIN_FILE, MODEL_TYPE)\n",
    "valid_dataset = load_seizure_dataset(PATH_VALID_FILE, MODEL_TYPE)\n",
    "test_dataset = load_seizure_dataset(PATH_TEST_FILE, MODEL_TYPE)\n",
    "\n",
    "train_loader = torch.utils.data.DataLoader(train_dataset, batch_size=BATCH_SIZE, shuffle=True, num_workers=NUM_WORKERS)\n",
    "valid_loader = torch.utils.data.DataLoader(valid_dataset, batch_size=BATCH_SIZE, shuffle=False, num_workers=NUM_WORKERS)\n",
    "test_loader = torch.utils.data.DataLoader(test_dataset, batch_size=BATCH_SIZE, shuffle=False, num_workers=NUM_WORKERS)\n",
    "\n",
    "\n",
    "if MODEL_TYPE == 'MLP':\n",
    "    model = MyMLP()\n",
    "    save_file = 'MyMLP.pth'\n",
    "elif MODEL_TYPE == 'CNN':\n",
    "    model = MyCNN()\n",
    "    save_file = 'MyCNN.pth'\n",
    "elif MODEL_TYPE == 'RNN':\n",
    "    model = MyRNN()\n",
    "    save_file = 'MyRNN.pth'\n",
    "else:\n",
    "    raise AssertionError(\"Wrong Model Type!\")\n",
    "\n",
    "criterion = nn.CrossEntropyLoss()\n",
    "optimizer = optim.Adam(model.parameters())\n",
    "\n",
    "device = torch.device(\"cuda\" if torch.cuda.is_available() else \"cpu\")\n",
    "model.to(device)\n",
    "criterion.to(device)\n",
    "\n",
    "best_val_acc = 0.0\n",
    "train_losses, train_accuracies = [], []\n",
    "valid_losses, valid_accuracies = [], []\n",
    "\n",
    "for epoch in range(NUM_EPOCHS):\n",
    "    train_loss, train_accuracy = train(model, device, train_loader, criterion, optimizer, epoch)\n",
    "    valid_loss, valid_accuracy, valid_results = evaluate(model, device, valid_loader, criterion)\n",
    "\n",
    "    train_losses.append(train_loss)\n",
    "    valid_losses.append(valid_loss)\n",
    "\n",
    "    train_accuracies.append(train_accuracy)\n",
    "    valid_accuracies.append(valid_accuracy)\n",
    "\n",
    "    is_best = valid_accuracy > best_val_acc  # let's keep the model that has the best accuracy, but you can also use another metric.\n",
    "    if is_best:\n",
    "        best_val_acc = valid_accuracy\n",
    "        torch.save(model, os.path.join(PATH_OUTPUT, save_file))\n",
    "\n",
    "plot_learning_curves(train_losses, valid_losses, train_accuracies, valid_accuracies)\n",
    "\n",
    "best_model = torch.load(os.path.join(PATH_OUTPUT, save_file))\n",
    "test_loss, test_accuracy, test_results = evaluate(best_model, device, test_loader, criterion)\n",
    "\n",
    "class_names = ['Seizure', 'TumorArea', 'HealthyArea', 'EyesClosed', 'EyesOpen']\n",
    "plot_confusion_matrix(test_results, class_names)\n"
   ]
  },
  {
   "cell_type": "code",
   "execution_count": 6,
   "metadata": {},
   "outputs": [
    {
     "name": "stdout",
     "output_type": "stream",
     "text": [
      "----------------------------------------------------------------\n",
      "        Layer (type)               Output Shape         Param #\n",
      "================================================================\n",
      "            Conv1d-1               [-1, 6, 174]              36\n",
      "         MaxPool1d-2                [-1, 6, 87]               0\n",
      "       BatchNorm1d-3                [-1, 6, 87]              12\n",
      "            Conv1d-4               [-1, 16, 83]             496\n",
      "         MaxPool1d-5               [-1, 16, 41]               0\n",
      "       BatchNorm1d-6               [-1, 16, 41]              32\n",
      "            Linear-7                  [-1, 128]          84,096\n",
      "       BatchNorm1d-8                  [-1, 128]             256\n",
      "            Linear-9                    [-1, 5]             645\n",
      "================================================================\n",
      "Total params: 85,573\n",
      "Trainable params: 85,573\n",
      "Non-trainable params: 0\n",
      "----------------------------------------------------------------\n",
      "Input size (MB): 0.00\n",
      "Forward/backward pass size (MB): 0.04\n",
      "Params size (MB): 0.33\n",
      "Estimated Total Size (MB): 0.37\n",
      "----------------------------------------------------------------\n"
     ]
    }
   ],
   "source": [
    "from torchvision import models\n",
    "from torchsummary import summary\n",
    "\n",
    "\n",
    "summary(model, (1, 178))"
   ]
  },
  {
   "cell_type": "code",
   "execution_count": 7,
   "metadata": {},
   "outputs": [
    {
     "name": "stdout",
     "output_type": "stream",
     "text": [
      "tensor([[[-0.4939, -0.2729, -0.2008,  ..., -5.8408, -4.4689, -2.8449]],\n",
      "\n",
      "        [[-0.4092, -0.3572, -0.2311,  ..., -0.6300, -1.1000, -1.1669]],\n",
      "\n",
      "        [[ 0.0203,  0.0221, -0.0372,  ..., -0.2905, -0.4350, -0.4833]],\n",
      "\n",
      "        ...,\n",
      "\n",
      "        [[ 0.5648,  0.1786, -0.2432,  ...,  0.1243, -0.0335, -0.3714]],\n",
      "\n",
      "        [[ 0.2804,  0.2750,  0.3202,  ...,  0.0615,  0.1547,  0.2998]],\n",
      "\n",
      "        [[ 0.0687, -0.0501,  0.0355,  ...,  0.2249,  0.1296,  0.0201]]])\n",
      "tensor([0, 3, 1, 4, 1, 4, 0, 2, 3, 3, 3, 2, 1, 1, 0, 4, 1, 2, 4, 3, 0, 2, 0, 3,\n",
      "        0, 0, 2, 2, 4, 3, 4, 4])\n"
     ]
    }
   ],
   "source": [
    "dataiter = iter(train_loader)\n",
    "X, y = dataiter.next()\n",
    "\n",
    "print(X)\n",
    "print(y)"
   ]
  },
  {
   "cell_type": "code",
   "execution_count": 8,
   "metadata": {},
   "outputs": [
    {
     "data": {
      "text/plain": [
       "torch.Size([32, 1, 178])"
      ]
     },
     "execution_count": 8,
     "metadata": {},
     "output_type": "execute_result"
    }
   ],
   "source": [
    "X.shape"
   ]
  },
  {
   "cell_type": "code",
   "execution_count": 9,
   "metadata": {},
   "outputs": [
    {
     "data": {
      "text/plain": [
       "MyCNN(\n",
       "  (conv1): Conv1d(1, 6, kernel_size=(5,), stride=(1,))\n",
       "  (conv1_bn): BatchNorm1d(6, eps=1e-05, momentum=0.1, affine=True, track_running_stats=True)\n",
       "  (pool): MaxPool1d(kernel_size=2, stride=2, padding=0, dilation=1, ceil_mode=False)\n",
       "  (conv2): Conv1d(6, 16, kernel_size=(5,), stride=(1,))\n",
       "  (conv2_bn): BatchNorm1d(16, eps=1e-05, momentum=0.1, affine=True, track_running_stats=True)\n",
       "  (fc1): Linear(in_features=656, out_features=128, bias=True)\n",
       "  (fc1_bn): BatchNorm1d(128, eps=1e-05, momentum=0.1, affine=True, track_running_stats=True)\n",
       "  (fc2): Linear(in_features=128, out_features=5, bias=True)\n",
       ")"
      ]
     },
     "execution_count": 9,
     "metadata": {},
     "output_type": "execute_result"
    }
   ],
   "source": [
    "model"
   ]
  },
  {
   "cell_type": "code",
   "execution_count": null,
   "metadata": {},
   "outputs": [],
   "source": []
  }
 ],
 "metadata": {
  "hide_input": false,
  "kernelspec": {
   "display_name": "Python 3",
   "language": "python",
   "name": "python3"
  },
  "language_info": {
   "codemirror_mode": {
    "name": "ipython",
    "version": 3
   },
   "file_extension": ".py",
   "mimetype": "text/x-python",
   "name": "python",
   "nbconvert_exporter": "python",
   "pygments_lexer": "ipython3",
   "version": "3.7.1"
  },
  "varInspector": {
   "cols": {
    "lenName": 16,
    "lenType": 16,
    "lenVar": 40
   },
   "kernels_config": {
    "python": {
     "delete_cmd_postfix": "",
     "delete_cmd_prefix": "del ",
     "library": "var_list.py",
     "varRefreshCmd": "print(var_dic_list())"
    },
    "r": {
     "delete_cmd_postfix": ") ",
     "delete_cmd_prefix": "rm(",
     "library": "var_list.r",
     "varRefreshCmd": "cat(var_dic_list()) "
    }
   },
   "types_to_exclude": [
    "module",
    "function",
    "builtin_function_or_method",
    "instance",
    "_Feature"
   ],
   "window_display": false
  }
 },
 "nbformat": 4,
 "nbformat_minor": 2
}
