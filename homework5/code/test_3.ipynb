{
 "cells": [
  {
   "cell_type": "code",
   "execution_count": null,
   "metadata": {},
   "outputs": [],
   "source": [
    "import os\n",
    "import pickle\n",
    "import pandas as pd\n",
    "\n",
    "\n",
    "PATH_TRAIN = \"../data/mortality/train/\"\n",
    "PATH_VALIDATION = \"../data/mortality/validation/\"\n",
    "PATH_TEST = \"../data/mortality/test/\"\n",
    "PATH_OUTPUT = \"../data/mortality/processed/\"\n",
    "\n",
    "path = PATH_TRAIN\n",
    "\n",
    "\n",
    "def transform(icd9_object):\n",
    "    \"\"\"\n",
    "    :param icd9_object: ICD-9 code (Pandas/Numpy object).\n",
    "    :return: extracted main digits of ICD-9 code\n",
    "    \"\"\"\n",
    "    icd9_str = str(icd9_object)\n",
    "    # TODO: Extract the the first 3 or 4 alphanumeric digits prior to the decimal point from a given ICD-9 code.\n",
    "    # TODO: Read the homework description carefully\n",
    "\n",
    "    if icd9_str[0] == 'E':\n",
    "        converted = icd9_str[:4]\n",
    "    else:\n",
    "        converted = icd9_str[:3]\n",
    "\n",
    "    return converted\n",
    "\n",
    "\n",
    "def build_codemap(df_icd9, transform):\n",
    "    \"\"\"\n",
    "    :return: Dict of code map {main-digits of ICD9: unique feature ID}\n",
    "    \"\"\"\n",
    "    # TODO: We build a code map using ONLY train data. Think about how to construct validation/test sets using this.\n",
    "    df_digits = df_icd9['ICD9_CODE'].apply(transform)\n",
    "    df_digits = set(list(df_digits))\n",
    "\n",
    "    codemap = {}\n",
    "    \n",
    "    for i, icd in enumerate(df_digits):\n",
    "        codemap[icd] = i\n",
    "        \n",
    "    return codemap\n",
    "\n",
    "df_icd9 = pd.read_csv(os.path.join(PATH_TRAIN, \"DIAGNOSES_ICD.csv\"), usecols=[\"ICD9_CODE\"])\n",
    "codemap = build_codemap(df_icd9, transform)"
   ]
  },
  {
   "cell_type": "code",
   "execution_count": null,
   "metadata": {
    "scrolled": false
   },
   "outputs": [],
   "source": [
    "df_mortality = pd.read_csv(os.path.join(path, \"MORTALITY.csv\"))\n",
    "df_admissions = pd.read_csv(os.path.join(path, \"ADMISSIONS.csv\"))\n",
    "df_diag = pd.read_csv(os.path.join(path, \"DIAGNOSES_ICD.csv\"))\n",
    "\n",
    "df_diag['ICD9_CODE'] = df_diag['ICD9_CODE'].apply(transform)\n",
    "df_diag['ICD9_CODE'] = df_diag['ICD9_CODE'].map(codemap)\n",
    "\n",
    "df_admissions['ADMITTIME'] = df_admissions['ADMITTIME'].apply(lambda x: x.split(' ')[0])\n",
    "df_join = pd.merge(df_diag, df_admissions, on='HADM_ID')\n",
    "df_join = df_join[['SUBJECT_ID_x', 'ADMITTIME', 'ICD9_CODE']]\n",
    "df_join = pd.merge(df_join, df_mortality, left_on='SUBJECT_ID_x', right_on='SUBJECT_ID').drop(columns='SUBJECT_ID_x')\n",
    "\n",
    "df_grouped = df_join.groupby(['SUBJECT_ID', 'ADMITTIME']).agg({'ICD9_CODE': lambda x: list(x), 'MORTALITY': lambda x: x.iloc[0]})\n",
    "df_grouped = df_grouped.sort_values(by=(['SUBJECT_ID','ADMITTIME']), ascending=True)\n",
    "\n",
    "seq_data = []\n",
    "patient_ids = []\n",
    "labels = []\n",
    "\n",
    "for _, subject in df_grouped.groupby(level=0):\n",
    "    labels.append(subject.iloc[0]['MORTALITY'])\n",
    "    patient_ids.append(subject.index[0][0])\n",
    "    temp = []\n",
    "    subject = subject['ICD9_CODE']\n",
    "    for code in subject:\n",
    "        temp.append((list(code)))\n",
    "    seq_data.append(temp)"
   ]
  },
  {
   "cell_type": "code",
   "execution_count": null,
   "metadata": {},
   "outputs": [],
   "source": [
    "df_grouped"
   ]
  }
 ],
 "metadata": {
  "hide_input": false,
  "kernelspec": {
   "display_name": "Python 3",
   "language": "python",
   "name": "python3"
  },
  "language_info": {
   "codemirror_mode": {
    "name": "ipython",
    "version": 3
   },
   "file_extension": ".py",
   "mimetype": "text/x-python",
   "name": "python",
   "nbconvert_exporter": "python",
   "pygments_lexer": "ipython3",
   "version": "3.6.7"
  },
  "varInspector": {
   "cols": {
    "lenName": 16,
    "lenType": 16,
    "lenVar": 40
   },
   "kernels_config": {
    "python": {
     "delete_cmd_postfix": "",
     "delete_cmd_prefix": "del ",
     "library": "var_list.py",
     "varRefreshCmd": "print(var_dic_list())"
    },
    "r": {
     "delete_cmd_postfix": ") ",
     "delete_cmd_prefix": "rm(",
     "library": "var_list.r",
     "varRefreshCmd": "cat(var_dic_list()) "
    }
   },
   "types_to_exclude": [
    "module",
    "function",
    "builtin_function_or_method",
    "instance",
    "_Feature"
   ],
   "window_display": false
  }
 },
 "nbformat": 4,
 "nbformat_minor": 2
}
