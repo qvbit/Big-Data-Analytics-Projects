{
 "cells": [
  {
   "cell_type": "code",
   "execution_count": null,
   "metadata": {
    "scrolled": false
   },
   "outputs": [
    {
     "name": "stdout",
     "output_type": "stream",
     "text": [
      "===> Loading entire datasets\n"
     ]
    },
    {
     "name": "stderr",
     "output_type": "stream",
     "text": [
      "/Users/nabeelnauman/Documents/OMSCS/Big-Data-GaTech-Assignments/homework5/code/mymodels.py:115: UserWarning: nn.init.xavier_uniform is now deprecated in favor of nn.init.xavier_uniform_.\n",
      "  torch.nn.init.xavier_uniform(self.fc1.weight)\n",
      "/Users/nabeelnauman/Documents/OMSCS/Big-Data-GaTech-Assignments/homework5/code/mymodels.py:126: UserWarning: nn.init.xavier_uniform is now deprecated in favor of nn.init.xavier_uniform_.\n",
      "  torch.nn.init.xavier_uniform(self.fc2.weight)\n"
     ]
    },
    {
     "name": "stdout",
     "output_type": "stream",
     "text": [
      "Epoch: [0][0/83]\tTime 0.145 (0.145)\tData 0.013 (0.013)\tLoss 0.6681 (0.6681)\tAccuracy 68.000 (68.000)\n",
      "Epoch: [0][10/83]\tTime 0.019 (0.033)\tData 0.002 (0.005)\tLoss 0.6105 (0.6494)\tAccuracy 70.000 (64.182)\n",
      "Epoch: [0][20/83]\tTime 0.029 (0.029)\tData 0.007 (0.005)\tLoss 0.5895 (0.6366)\tAccuracy 67.000 (64.857)\n",
      "Epoch: [0][30/83]\tTime 0.020 (0.028)\tData 0.003 (0.005)\tLoss 0.6415 (0.6296)\tAccuracy 64.000 (65.258)\n",
      "Epoch: [0][40/83]\tTime 0.030 (0.027)\tData 0.006 (0.005)\tLoss 0.5973 (0.6209)\tAccuracy 64.000 (65.390)\n",
      "Epoch: [0][50/83]\tTime 0.025 (0.027)\tData 0.006 (0.005)\tLoss 0.6763 (0.6131)\tAccuracy 60.000 (65.961)\n",
      "Epoch: [0][60/83]\tTime 0.019 (0.026)\tData 0.004 (0.005)\tLoss 0.5866 (0.6076)\tAccuracy 62.000 (66.410)\n",
      "Epoch: [0][70/83]\tTime 0.020 (0.025)\tData 0.003 (0.005)\tLoss 0.4828 (0.5969)\tAccuracy 75.000 (67.408)\n",
      "Epoch: [0][80/83]\tTime 0.018 (0.025)\tData 0.003 (0.005)\tLoss 0.5226 (0.5884)\tAccuracy 71.000 (68.062)\n",
      "Test: [0/12]\tTime 0.007 (0.007)\tLoss 0.5589 (0.5589)\tAccuracy 70.000 (70.000)\n",
      "Test: [10/12]\tTime 0.006 (0.007)\tLoss 0.4766 (0.5262)\tAccuracy 76.000 (72.091)\n",
      "Epoch: [1][0/83]\tTime 0.077 (0.077)\tData 0.025 (0.025)\tLoss 0.5740 (0.5740)\tAccuracy 73.000 (73.000)\n",
      "Epoch: [1][10/83]\tTime 0.025 (0.027)\tData 0.003 (0.005)\tLoss 0.4301 (0.5278)\tAccuracy 76.000 (73.273)\n",
      "Epoch: [1][20/83]\tTime 0.023 (0.025)\tData 0.003 (0.005)\tLoss 0.4375 (0.5093)\tAccuracy 78.000 (75.095)\n",
      "Epoch: [1][30/83]\tTime 0.027 (0.025)\tData 0.006 (0.005)\tLoss 0.4408 (0.5008)\tAccuracy 82.000 (75.355)\n",
      "Epoch: [1][40/83]\tTime 0.023 (0.025)\tData 0.003 (0.005)\tLoss 0.4412 (0.5046)\tAccuracy 78.000 (74.854)\n",
      "Epoch: [1][50/83]\tTime 0.015 (0.024)\tData 0.002 (0.005)\tLoss 0.4863 (0.5039)\tAccuracy 76.000 (74.608)\n",
      "Epoch: [1][60/83]\tTime 0.015 (0.023)\tData 0.001 (0.004)\tLoss 0.6264 (0.5054)\tAccuracy 62.000 (74.934)\n",
      "Epoch: [1][70/83]\tTime 0.039 (0.023)\tData 0.008 (0.004)\tLoss 0.4599 (0.5079)\tAccuracy 73.000 (74.817)\n",
      "Epoch: [1][80/83]\tTime 0.018 (0.023)\tData 0.004 (0.004)\tLoss 0.4292 (0.5084)\tAccuracy 84.000 (74.765)\n",
      "Test: [0/12]\tTime 0.008 (0.008)\tLoss 0.5304 (0.5304)\tAccuracy 73.000 (73.000)\n",
      "Test: [10/12]\tTime 0.006 (0.007)\tLoss 0.4679 (0.5089)\tAccuracy 76.000 (74.364)\n",
      "Epoch: [2][0/83]\tTime 0.019 (0.019)\tData 0.003 (0.003)\tLoss 0.4841 (0.4841)\tAccuracy 78.000 (78.000)\n",
      "Epoch: [2][10/83]\tTime 0.025 (0.018)\tData 0.006 (0.003)\tLoss 0.4017 (0.4801)\tAccuracy 79.000 (77.364)\n",
      "Epoch: [2][20/83]\tTime 0.023 (0.020)\tData 0.005 (0.004)\tLoss 0.4729 (0.4797)\tAccuracy 82.000 (76.952)\n",
      "Epoch: [2][30/83]\tTime 0.013 (0.019)\tData 0.001 (0.003)\tLoss 0.4069 (0.4761)\tAccuracy 81.000 (76.548)\n",
      "Epoch: [2][40/83]\tTime 0.017 (0.021)\tData 0.004 (0.004)\tLoss 0.4371 (0.4700)\tAccuracy 81.000 (77.463)\n",
      "Epoch: [2][50/83]\tTime 0.017 (0.022)\tData 0.003 (0.004)\tLoss 0.3779 (0.4743)\tAccuracy 87.000 (77.412)\n",
      "Epoch: [2][60/83]\tTime 0.014 (0.022)\tData 0.002 (0.004)\tLoss 0.5141 (0.4702)\tAccuracy 79.000 (77.689)\n",
      "Epoch: [2][70/83]\tTime 0.017 (0.022)\tData 0.003 (0.004)\tLoss 0.5153 (0.4729)\tAccuracy 75.000 (77.521)\n",
      "Epoch: [2][80/83]\tTime 0.018 (0.023)\tData 0.003 (0.004)\tLoss 0.4427 (0.4751)\tAccuracy 78.000 (77.259)\n",
      "Test: [0/12]\tTime 0.007 (0.007)\tLoss 0.5355 (0.5355)\tAccuracy 71.000 (71.000)\n",
      "Test: [10/12]\tTime 0.006 (0.007)\tLoss 0.4696 (0.5105)\tAccuracy 75.000 (73.909)\n",
      "Epoch: [3][0/83]\tTime 0.018 (0.018)\tData 0.002 (0.002)\tLoss 0.4168 (0.4168)\tAccuracy 76.000 (76.000)\n",
      "Epoch: [3][10/83]\tTime 0.013 (0.017)\tData 0.002 (0.003)\tLoss 0.3520 (0.4256)\tAccuracy 85.000 (79.364)\n",
      "Epoch: [3][20/83]\tTime 0.023 (0.021)\tData 0.005 (0.004)\tLoss 0.4375 (0.4446)\tAccuracy 78.000 (78.952)\n",
      "Epoch: [3][30/83]\tTime 0.016 (0.020)\tData 0.002 (0.003)\tLoss 0.4608 (0.4423)\tAccuracy 78.000 (78.613)\n",
      "Epoch: [3][40/83]\tTime 0.013 (0.020)\tData 0.002 (0.003)\tLoss 0.4539 (0.4479)\tAccuracy 81.000 (78.341)\n",
      "Epoch: [3][50/83]\tTime 0.029 (0.021)\tData 0.007 (0.004)\tLoss 0.3902 (0.4451)\tAccuracy 81.000 (78.314)\n",
      "Epoch: [3][60/83]\tTime 0.018 (0.022)\tData 0.002 (0.004)\tLoss 0.4782 (0.4457)\tAccuracy 75.000 (78.279)\n",
      "Epoch: [3][70/83]\tTime 0.033 (0.023)\tData 0.007 (0.004)\tLoss 0.4806 (0.4466)\tAccuracy 76.000 (78.479)\n",
      "Epoch: [3][80/83]\tTime 0.029 (0.022)\tData 0.006 (0.004)\tLoss 0.4385 (0.4459)\tAccuracy 78.000 (78.432)\n",
      "Test: [0/12]\tTime 0.006 (0.006)\tLoss 0.5399 (0.5399)\tAccuracy 73.000 (73.000)\n",
      "Test: [10/12]\tTime 0.006 (0.007)\tLoss 0.4855 (0.5098)\tAccuracy 79.000 (74.636)\n",
      "Epoch: [4][0/83]\tTime 0.017 (0.017)\tData 0.003 (0.003)\tLoss 0.4981 (0.4981)\tAccuracy 76.000 (76.000)\n",
      "Epoch: [4][10/83]\tTime 0.017 (0.019)\tData 0.002 (0.003)\tLoss 0.3638 (0.4335)\tAccuracy 87.000 (79.545)\n",
      "Epoch: [4][20/83]\tTime 0.018 (0.018)\tData 0.003 (0.003)\tLoss 0.3503 (0.4319)\tAccuracy 87.000 (79.190)\n",
      "Epoch: [4][30/83]\tTime 0.020 (0.024)\tData 0.004 (0.005)\tLoss 0.3640 (0.4141)\tAccuracy 84.000 (80.065)\n",
      "Epoch: [4][40/83]\tTime 0.013 (0.022)\tData 0.001 (0.004)\tLoss 0.4945 (0.4170)\tAccuracy 79.000 (79.951)\n",
      "Epoch: [4][50/83]\tTime 0.025 (0.023)\tData 0.006 (0.005)\tLoss 0.4527 (0.4208)\tAccuracy 81.000 (79.627)\n",
      "Epoch: [4][60/83]\tTime 0.014 (0.023)\tData 0.002 (0.005)\tLoss 0.3943 (0.4208)\tAccuracy 85.000 (79.738)\n",
      "Epoch: [4][70/83]\tTime 0.044 (0.023)\tData 0.013 (0.005)\tLoss 0.3795 (0.4239)\tAccuracy 79.000 (79.352)\n",
      "Epoch: [4][80/83]\tTime 0.026 (0.023)\tData 0.005 (0.005)\tLoss 0.4108 (0.4257)\tAccuracy 79.000 (79.235)\n",
      "Test: [0/12]\tTime 0.006 (0.006)\tLoss 0.5551 (0.5551)\tAccuracy 70.000 (70.000)\n",
      "Test: [10/12]\tTime 0.006 (0.007)\tLoss 0.4976 (0.5140)\tAccuracy 78.000 (74.727)\n",
      "Epoch: [5][0/83]\tTime 0.017 (0.017)\tData 0.003 (0.003)\tLoss 0.3726 (0.3726)\tAccuracy 85.000 (85.000)\n",
      "Epoch: [5][10/83]\tTime 0.015 (0.024)\tData 0.003 (0.005)\tLoss 0.4307 (0.4487)\tAccuracy 78.000 (80.636)\n",
      "Epoch: [5][20/83]\tTime 0.028 (0.022)\tData 0.008 (0.004)\tLoss 0.3997 (0.4241)\tAccuracy 78.000 (81.000)\n",
      "Epoch: [5][30/83]\tTime 0.016 (0.024)\tData 0.001 (0.005)\tLoss 0.3729 (0.4142)\tAccuracy 84.000 (81.161)\n",
      "Epoch: [5][40/83]\tTime 0.015 (0.024)\tData 0.002 (0.005)\tLoss 0.3761 (0.4067)\tAccuracy 82.000 (81.634)\n",
      "Epoch: [5][50/83]\tTime 0.022 (0.023)\tData 0.005 (0.005)\tLoss 0.4127 (0.4108)\tAccuracy 85.000 (81.353)\n",
      "Epoch: [5][60/83]\tTime 0.017 (0.022)\tData 0.002 (0.004)\tLoss 0.4906 (0.4166)\tAccuracy 78.000 (81.148)\n"
     ]
    }
   ],
   "source": [
    "import os\n",
    "import pickle\n",
    "\n",
    "import torch\n",
    "import torch.nn as nn\n",
    "from torch.utils.data import DataLoader\n",
    "import torch.optim as optim\n",
    "\n",
    "from utils import train, evaluate, make_kaggle_submission\n",
    "from plots import plot_learning_curves, plot_confusion_matrix\n",
    "from mydatasets import calculate_num_features, VisitSequenceWithLabelDataset, visit_collate_fn\n",
    "from mymodels import MyVariableRNN\n",
    "\n",
    "torch.manual_seed(0)\n",
    "if torch.cuda.is_available():\n",
    "\ttorch.cuda.manual_seed(0)\n",
    "\n",
    "# Set a correct path to the data files that you preprocessed\n",
    "PATH_TRAIN_SEQS = \"../data/mortality/processed/mortality.seqs.train\"\n",
    "PATH_TRAIN_LABELS = \"../data/mortality/processed/mortality.labels.train\"\n",
    "PATH_VALID_SEQS = \"../data/mortality/processed/mortality.seqs.validation\"\n",
    "PATH_VALID_LABELS = \"../data/mortality/processed/mortality.labels.validation\"\n",
    "PATH_TEST_SEQS = \"../data/mortality/processed/mortality.seqs.test\"\n",
    "PATH_TEST_LABELS = \"../data/mortality/processed/mortality.labels.test\"\n",
    "PATH_TEST_IDS = \"../data/mortality/processed/mortality.ids.test\"\n",
    "PATH_OUTPUT = \"../output/mortality/\"\n",
    "\n",
    "NUM_EPOCHS = 10\n",
    "BATCH_SIZE = 64\n",
    "USE_CUDA = False  # Set 'True' if you want to use GPU\n",
    "NUM_WORKERS = 0\n",
    "\n",
    "# Data loading\n",
    "print('===> Loading entire datasets')\n",
    "train_seqs = pickle.load(open(PATH_TRAIN_SEQS, 'rb'))\n",
    "train_labels = pickle.load(open(PATH_TRAIN_LABELS, 'rb'))\n",
    "valid_seqs = pickle.load(open(PATH_VALID_SEQS, 'rb'))\n",
    "valid_labels = pickle.load(open(PATH_VALID_LABELS, 'rb'))\n",
    "test_seqs = pickle.load(open(PATH_TEST_SEQS, 'rb'))\n",
    "test_labels = pickle.load(open(PATH_TEST_LABELS, 'rb'))\n",
    "\n",
    "num_features = calculate_num_features(train_seqs)\n",
    "\n",
    "train_dataset = VisitSequenceWithLabelDataset(train_seqs, train_labels, num_features)\n",
    "valid_dataset = VisitSequenceWithLabelDataset(valid_seqs, valid_labels, num_features)\n",
    "test_dataset = VisitSequenceWithLabelDataset(test_seqs, test_labels, num_features)\n",
    "\n",
    "train_loader = DataLoader(dataset=train_dataset, batch_size=BATCH_SIZE, shuffle=True, collate_fn=visit_collate_fn, num_workers=NUM_WORKERS)\n",
    "valid_loader = DataLoader(dataset=valid_dataset, batch_size=BATCH_SIZE, shuffle=False, collate_fn=visit_collate_fn, num_workers=NUM_WORKERS)\n",
    "# batch_size for the test set should be 1 to avoid sorting each mini-batch which breaks the connection with patient IDs\n",
    "test_loader = DataLoader(dataset=test_dataset, batch_size=1, shuffle=False, collate_fn=visit_collate_fn, num_workers=NUM_WORKERS)\n",
    "\n",
    "model = MyVariableRNN(num_features)\n",
    "criterion = nn.CrossEntropyLoss()\n",
    "optimizer = optim.Adam(model.parameters())\n",
    "\n",
    "device = torch.device(\"cuda\" if torch.cuda.is_available() and USE_CUDA else \"cpu\")\n",
    "model.to(device)\n",
    "criterion.to(device)\n",
    "\n",
    "best_val_acc = 0.0\n",
    "train_losses, train_accuracies = [], []\n",
    "valid_losses, valid_accuracies = [], []\n",
    "for epoch in range(NUM_EPOCHS):\n",
    "\ttrain_loss, train_accuracy = train(model, device, train_loader, criterion, optimizer, epoch)\n",
    "\tvalid_loss, valid_accuracy, valid_results = evaluate(model, device, valid_loader, criterion)\n",
    "\n",
    "\ttrain_losses.append(train_loss)\n",
    "\tvalid_losses.append(valid_loss)\n",
    "\n",
    "\ttrain_accuracies.append(train_accuracy)\n",
    "\tvalid_accuracies.append(valid_accuracy)\n",
    "\n",
    "\tis_best = valid_accuracy > best_val_acc  # let's keep the model that has the best accuracy, but you can also use another metric.\n",
    "\tif is_best:\n",
    "\t\tbest_val_acc = valid_accuracy\n",
    "\t\ttorch.save(model, os.path.join(PATH_OUTPUT, \"MyVariableRNN.pth\"))\n",
    "\n",
    "best_model = torch.load(os.path.join(PATH_OUTPUT, \"MyVariableRNN.pth\"))\n",
    "# TODO: For your report, try to make plots similar to those in the previous task.\n",
    "# TODO: You may use the validation set in case you cannot use the test set.\n",
    "\n",
    "plot_learning_curves(train_losses, valid_losses, train_accuracies, valid_accuracies)\n",
    "test_loss, test_accuracy, test_results = evaluate(best_model, device, valid_loader, criterion)\n",
    "class_names = ['Mortality', 'Not Mortality']\n",
    "plot_confusion_matrix(test_results, class_names)"
   ]
  },
  {
   "cell_type": "code",
   "execution_count": null,
   "metadata": {},
   "outputs": [],
   "source": [
    "model"
   ]
  },
  {
   "cell_type": "code",
   "execution_count": null,
   "metadata": {},
   "outputs": [],
   "source": [
    "test_accuracy"
   ]
  },
  {
   "cell_type": "code",
   "execution_count": null,
   "metadata": {
    "collapsed": true
   },
   "outputs": [],
   "source": []
  }
 ],
 "metadata": {
  "hide_input": false,
  "kernelspec": {
   "display_name": "Python 3",
   "language": "python",
   "name": "python3"
  },
  "language_info": {
   "codemirror_mode": {
    "name": "ipython",
    "version": 3
   },
   "file_extension": ".py",
   "mimetype": "text/x-python",
   "name": "python",
   "nbconvert_exporter": "python",
   "pygments_lexer": "ipython3",
   "version": "3.6.7"
  },
  "varInspector": {
   "cols": {
    "lenName": 16,
    "lenType": 16,
    "lenVar": 40
   },
   "kernels_config": {
    "python": {
     "delete_cmd_postfix": "",
     "delete_cmd_prefix": "del ",
     "library": "var_list.py",
     "varRefreshCmd": "print(var_dic_list())"
    },
    "r": {
     "delete_cmd_postfix": ") ",
     "delete_cmd_prefix": "rm(",
     "library": "var_list.r",
     "varRefreshCmd": "cat(var_dic_list()) "
    }
   },
   "types_to_exclude": [
    "module",
    "function",
    "builtin_function_or_method",
    "instance",
    "_Feature"
   ],
   "window_display": false
  }
 },
 "nbformat": 4,
 "nbformat_minor": 2
}
